{
 "cells": [
  {
   "cell_type": "markdown",
   "id": "4e28a0c0-7d42-4052-8ca4-bb2f5684f13e",
   "metadata": {},
   "source": [
    "<div style=\"font-family: Arial; color: #5DADE2; text-align: center; font-size: 36px;\">\n",
    "    <i>Compte Rendu TP 3 Atelier ML</i>\n",
    "    </br>\n",
    "    </br>\n",
    "    <i>Réseau de neurones multi-couches (MPL) (classification des chiffres manuscrites)</i>\n",
    "</div>\n",
    "<div style=\"font-family: Arial; color: #27AE60 ; font-size: 20px;\">\n",
    "    <b>Réalisé Par:</b>\n",
    "</div>\n",
    "<ul style=\"font-family: Arial; color: #2E86C1 ; font-size: 18px;\">\n",
    "    <li>Ouhibi Ons</li>\n",
    "    <li>Ben Zaied Mouna</li>\n",
    "</ul>\n",
    "<div style=\"font-family: Arial; color: #27AE60 ; text-align: left; padding-left: 20px; font-size: 15px;\">\n",
    "    <b>RT4 Groupe 2</b>\n",
    "</div>\n"
   ]
  },
  {
   "cell_type": "markdown",
   "id": "32cec667-e2a2-438a-9614-cb9a1d07a448",
   "metadata": {},
   "source": [
    "</br>\n",
    "<div style=\"font-family: Arial; color: #27AE60 ; font-size: 45px;\">\n",
    "    <b>La partie Manquante du code donné:</b>\n",
    "</div>\n",
    "</br>"
   ]
  },
  {
   "cell_type": "code",
   "execution_count": 2,
   "id": "e94389d6-6e06-4e47-97f3-43e12b52b799",
   "metadata": {},
   "outputs": [
    {
     "name": "stdout",
     "output_type": "stream",
     "text": [
      "Collecting mlxtend\n",
      "  Downloading mlxtend-0.23.0-py3-none-any.whl (1.4 MB)\n",
      "     ---------------------------------------- 1.4/1.4 MB 422.5 kB/s eta 0:00:00\n",
      "Requirement already satisfied: matplotlib>=3.0.0 in c:\\users\\dell\\anaconda3\\lib\\site-packages (from mlxtend) (3.5.2)\n",
      "Requirement already satisfied: numpy>=1.16.2 in c:\\users\\dell\\anaconda3\\lib\\site-packages (from mlxtend) (1.24.3)\n",
      "Requirement already satisfied: pandas>=0.24.2 in c:\\users\\dell\\anaconda3\\lib\\site-packages (from mlxtend) (1.4.4)\n",
      "Requirement already satisfied: scikit-learn>=1.0.2 in c:\\users\\dell\\anaconda3\\lib\\site-packages (from mlxtend) (1.0.2)\n",
      "Requirement already satisfied: scipy>=1.2.1 in c:\\users\\dell\\anaconda3\\lib\\site-packages (from mlxtend) (1.9.1)\n",
      "Requirement already satisfied: joblib>=0.13.2 in c:\\users\\dell\\anaconda3\\lib\\site-packages (from mlxtend) (1.1.0)\n",
      "Requirement already satisfied: python-dateutil>=2.7 in c:\\users\\dell\\anaconda3\\lib\\site-packages (from matplotlib>=3.0.0->mlxtend) (2.8.2)\n",
      "Requirement already satisfied: cycler>=0.10 in c:\\users\\dell\\anaconda3\\lib\\site-packages (from matplotlib>=3.0.0->mlxtend) (0.11.0)\n",
      "Requirement already satisfied: kiwisolver>=1.0.1 in c:\\users\\dell\\anaconda3\\lib\\site-packages (from matplotlib>=3.0.0->mlxtend) (1.4.2)\n",
      "Requirement already satisfied: pillow>=6.2.0 in c:\\users\\dell\\anaconda3\\lib\\site-packages (from matplotlib>=3.0.0->mlxtend) (9.2.0)\n",
      "Requirement already satisfied: packaging>=20.0 in c:\\users\\dell\\anaconda3\\lib\\site-packages (from matplotlib>=3.0.0->mlxtend) (21.3)\n",
      "Requirement already satisfied: fonttools>=4.22.0 in c:\\users\\dell\\anaconda3\\lib\\site-packages (from matplotlib>=3.0.0->mlxtend) (4.25.0)\n",
      "Requirement already satisfied: pyparsing>=2.2.1 in c:\\users\\dell\\anaconda3\\lib\\site-packages (from matplotlib>=3.0.0->mlxtend) (3.0.9)\n",
      "Requirement already satisfied: pytz>=2020.1 in c:\\users\\dell\\anaconda3\\lib\\site-packages (from pandas>=0.24.2->mlxtend) (2022.1)\n",
      "Requirement already satisfied: threadpoolctl>=2.0.0 in c:\\users\\dell\\anaconda3\\lib\\site-packages (from scikit-learn>=1.0.2->mlxtend) (2.2.0)\n",
      "Requirement already satisfied: six>=1.5 in c:\\users\\dell\\anaconda3\\lib\\site-packages (from python-dateutil>=2.7->matplotlib>=3.0.0->mlxtend) (1.16.0)\n",
      "Installing collected packages: mlxtend\n",
      "Successfully installed mlxtend-0.23.0\n"
     ]
    }
   ],
   "source": [
    "!pip install mlxtend"
   ]
  },
  {
   "cell_type": "code",
   "execution_count": 1,
   "id": "9c4e4a04-52a6-4c6c-8863-1a0489180c5b",
   "metadata": {},
   "outputs": [],
   "source": [
    "from mlxtend.data import mnist_data\n",
    "from mlxtend.preprocessing import shuffle_arrays_unison\n",
    "import matplotlib.pyplot as plt\n",
    "import numpy as np\n",
    "from mlxtend.preprocessing import standardize\n",
    "from mlxtend.classifier import MultiLayerPerceptron as MLP"
   ]
  },
  {
   "cell_type": "code",
   "execution_count": 2,
   "id": "739f28f3-6db4-43cb-8e47-2464507773e4",
   "metadata": {},
   "outputs": [
    {
     "data": {
      "image/png": "[encoded data removed]",
      "text/plain": [
       "<Figure size 640x480 with 1 Axes>"
      ]
     },
     "metadata": {},
     "output_type": "display_data"
    }
   ],
   "source": [
    "# Charger les données MNIST\n",
    "X, y = mnist_data()\n",
    "X, y = shuffle_arrays_unison((X, y), random_seed=1)\n",
    "\n",
    "# Diviser les données en ensembles d'entraînement et de test\n",
    "X_train, y_train = X[:5000], y[:5000]\n",
    "X_test, y_test = X[500:], y[500:]\n",
    "\n",
    "def plot_digit(X, y, idx):\n",
    "    img = X[idx].reshape(28, 28)\n",
    "    plt.imshow(img, cmap='Greys', interpolation='nearest')\n",
    "    plt.title('true label: %d' % y[idx])\n",
    "    plt.show()\n",
    "\n",
    "plot_digit(X, y, 3500)\n"
   ]
  },
  {
   "cell_type": "code",
   "execution_count": 3,
   "id": "a89a4e8e-f657-407e-a210-e1983516966b",
   "metadata": {},
   "outputs": [
    {
     "name": "stderr",
     "output_type": "stream",
     "text": [
      "C:\\Users\\dell\\anaconda3\\lib\\site-packages\\mlxtend\\classifier\\multilayerperceptron.py:259: RuntimeWarning: divide by zero encountered in log\n",
      "  return -np.sum(np.log(output) * (y_target), axis=1)\n",
      "C:\\Users\\dell\\anaconda3\\lib\\site-packages\\mlxtend\\classifier\\multilayerperceptron.py:259: RuntimeWarning: invalid value encountered in multiply\n",
      "  return -np.sum(np.log(output) * (y_target), axis=1)\n"
     ]
    },
    {
     "data": {
      "image/png": "[encoded data removed]",
      "text/plain": [
       "<Figure size 640x480 with 1 Axes>"
      ]
     },
     "metadata": {},
     "output_type": "display_data"
    },
    {
     "name": "stdout",
     "output_type": "stream",
     "text": [
      "Train Accuracy: 91.20%\n",
      "Test Accuracy: 91.31%\n"
     ]
    }
   ],
   "source": [
    "# Standardiser les valeurs des pixels\n",
    "X_train_std, params = standardize(X_train, columns=range(X_train.shape[1]), return_params=True)\n",
    "X_test_std = standardize(X_test, columns=range(X_test.shape[1]), params=params)\n",
    "\n",
    "# Initialiser le réseau de neurones \n",
    "nn1 = MLP(eta=0.1, epochs=300, hidden_layers=[50], n_classes=None, momentum=0.0,l1=0.0, l2=0.0, dropout=1.0, decrease_const=0.0, minibatches=1, random_seed=None, print_progress=0)\n",
    "\n",
    "\n",
    "# Apprendre les caractéristiques tout en imprimant la progression\n",
    "nn1.fit(X_train_std, y_train)\n",
    "\n",
    "# Afficher la courbe d'apprentissage\n",
    "plt.plot(range(len(nn1.cost_)), nn1.cost_)\n",
    "plt.ylabel('Cost')\n",
    "plt.xlabel('Epoch')\n",
    "plt.show()\n",
    "\n",
    "# Afficher la précision sur les ensembles d'entraînement et de test\n",
    "print('Train Accuracy: %.2f%%' % (100 * nn1.score(X_train_std, y_train)))\n",
    "print('Test Accuracy: %.2f%%' % (100 * nn1.score(X_test_std, y_test)))\n"
   ]
  },
  {
   "cell_type": "markdown",
   "id": "7dcbe972-b38b-4f09-9f40-17c8e6d685a1",
   "metadata": {},
   "source": [
    "</br>\n",
    "<div style=\"font-family: Arial; color: #27AE60 ; font-size: 45px;\">\n",
    "    <b>Manipulation des paramètres:</b>\n",
    "</div>\n",
    "</br>"
   ]
  },
  {
   "cell_type": "markdown",
   "id": "4e50921b-e757-41f4-b8e1-12582d387957",
   "metadata": {},
   "source": [
    "</br>\n",
    "<div style=\"font-family: Arial; color: red ; font-size: 20px;\">\n",
    "    <b>Changement du paramètre \"eta\"   </b>\n",
    "</div>\n",
    "</br>\n"
   ]
  },
  {
   "cell_type": "code",
   "execution_count": 4,
   "id": "e24ab671-2d2b-4da1-9f67-a9a78e4e4276",
   "metadata": {},
   "outputs": [
    {
     "name": "stdout",
     "output_type": "stream",
     "text": [
      "Train Accuracy: 97.42%\n",
      "Test Accuracy: 97.38%\n"
     ]
    }
   ],
   "source": [
    "# Standardiser les valeurs des pixels\n",
    "X_train_std, params = standardize(X_train, columns=range(X_train.shape[1]), return_params=True)\n",
    "X_test_std = standardize(X_test, columns=range(X_test.shape[1]), params=params)\n",
    "\n",
    "# Initialiser le réseau de neurones \n",
    "nn1 = MLP(eta=0.01,epochs=300, hidden_layers=[50], n_classes=None, momentum=0.0,l1=0.0, l2=0.0, dropout=1.0, decrease_const=0.0, minibatches=1, random_seed=None, print_progress=0)\n",
    "\n",
    "\n",
    "# Apprendre les caractéristiques tout en imprimant la progression\n",
    "nn1.fit(X_train_std, y_train)\n",
    "\n",
    "# Afficher la précision sur les ensembles d'entraînement et de test\n",
    "print('Train Accuracy: %.2f%%' % (100 * nn1.score(X_train_std, y_train)))\n",
    "print('Test Accuracy: %.2f%%' % (100 * nn1.score(X_test_std, y_test)))\n"
   ]
  },
  {
   "cell_type": "code",
   "execution_count": 5,
   "id": "83f2cf40-59b7-451b-aa83-696b36e5fa35",
   "metadata": {},
   "outputs": [
    {
     "name": "stdout",
     "output_type": "stream",
     "text": [
      "Train Accuracy: 99.96%\n",
      "Test Accuracy: 99.96%\n"
     ]
    }
   ],
   "source": [
    "# Standardiser les valeurs des pixels\n",
    "X_train_std, params = standardize(X_train, columns=range(X_train.shape[1]), return_params=True)\n",
    "X_test_std = standardize(X_test, columns=range(X_test.shape[1]), params=params)\n",
    "\n",
    "# Initialiser le réseau de neurones \n",
    "nn1 = MLP(eta=0.001,epochs=300, hidden_layers=[50], n_classes=None, momentum=0.0,l1=0.0, l2=0.0, dropout=1.0, decrease_const=0.0, minibatches=1, random_seed=None, print_progress=0)\n",
    "\n",
    "\n",
    "# Apprendre les caractéristiques tout en imprimant la progression\n",
    "nn1.fit(X_train_std, y_train)\n",
    "\n",
    "# Afficher la précision sur les ensembles d'entraînement et de test\n",
    "print('Train Accuracy: %.2f%%' % (100 * nn1.score(X_train_std, y_train)))\n",
    "print('Test Accuracy: %.2f%%' % (100 * nn1.score(X_test_std, y_test)))"
   ]
  },
  {
   "cell_type": "markdown",
   "id": "738b2400-a557-4a43-a114-1dc495a6ec30",
   "metadata": {},
   "source": [
    "</br>\n",
    "<div style=\"font-family: Arial; color: red ; font-size: 20px;\">\n",
    "    <b>Changement du paramètre \"epochs\"   </b>\n",
    "</div>\n",
    "</br>"
   ]
  },
  {
   "cell_type": "code",
   "execution_count": 6,
   "id": "7e636af3-4ac4-497f-861a-10ecc9f23974",
   "metadata": {},
   "outputs": [
    {
     "name": "stdout",
     "output_type": "stream",
     "text": [
      "Train Accuracy: 80.20%\n",
      "Test Accuracy: 80.11%\n"
     ]
    }
   ],
   "source": [
    "# Standardiser les valeurs des pixels\n",
    "X_train_std, params = standardize(X_train, columns=range(X_train.shape[1]), return_params=True)\n",
    "X_test_std = standardize(X_test, columns=range(X_test.shape[1]), params=params)\n",
    "\n",
    "# Initialiser le réseau de neurones \n",
    "nn1 = MLP(eta=0.1, epochs=100, hidden_layers=[50], n_classes=None, momentum=0.0,l1=0.0, l2=0.0, dropout=1.0, decrease_const=0.0, minibatches=1, random_seed=None, print_progress=0)\n",
    "\n",
    "\n",
    "# Apprendre les caractéristiques tout en imprimant la progression\n",
    "nn1.fit(X_train_std, y_train)\n",
    "\n",
    "# Afficher la précision sur les ensembles d'entraînement et de test\n",
    "print('Train Accuracy: %.2f%%' % (100 * nn1.score(X_train_std, y_train)))\n",
    "print('Test Accuracy: %.2f%%' % (100 * nn1.score(X_test_std, y_test)))\n"
   ]
  },
  {
   "cell_type": "code",
   "execution_count": 7,
   "id": "afef12d0-fdd2-440b-b738-f0fbb8cf9717",
   "metadata": {},
   "outputs": [
    {
     "name": "stdout",
     "output_type": "stream",
     "text": [
      "Train Accuracy: 90.62%\n",
      "Test Accuracy: 90.53%\n"
     ]
    }
   ],
   "source": [
    "# Standardiser les valeurs des pixels\n",
    "X_train_std, params = standardize(X_train, columns=range(X_train.shape[1]), return_params=True)\n",
    "X_test_std = standardize(X_test, columns=range(X_test.shape[1]), params=params)\n",
    "\n",
    "# Initialiser le réseau de neurones \n",
    "nn1 = MLP(eta=0.1, epochs=600, hidden_layers=[50], n_classes=None, momentum=0.0,l1=0.0, l2=0.0, dropout=1.0, decrease_const=0.0, minibatches=1, random_seed=None, print_progress=0)\n",
    "\n",
    "\n",
    "# Apprendre les caractéristiques tout en imprimant la progression\n",
    "nn1.fit(X_train_std, y_train)\n",
    "\n",
    "# Afficher la précision sur les ensembles d'entraînement et de test\n",
    "print('Train Accuracy: %.2f%%' % (100 * nn1.score(X_train_std, y_train)))\n",
    "print('Test Accuracy: %.2f%%' % (100 * nn1.score(X_test_std, y_test)))"
   ]
  },
  {
   "cell_type": "code",
   "execution_count": 19,
   "id": "7509acbb",
   "metadata": {},
   "outputs": [
    {
     "name": "stdout",
     "output_type": "stream",
     "text": [
      "Train Accuracy: 94.42%\n",
      "Test Accuracy: 94.38%\n"
     ]
    }
   ],
   "source": [
    "# Standardiser les valeurs des pixels\n",
    "X_train_std, params = standardize(X_train, columns=range(X_train.shape[1]), return_params=True)\n",
    "X_test_std = standardize(X_test, columns=range(X_test.shape[1]), params=params)\n",
    "\n",
    "# Initialiser le réseau de neurones \n",
    "nn1 = MLP(eta=0.1, epochs=1000, hidden_layers=[50], n_classes=None, momentum=0.0,l1=0.0, l2=0.0, dropout=1.0, decrease_const=0.0, minibatches=1, random_seed=None, print_progress=0)\n",
    "\n",
    "\n",
    "# Apprendre les caractéristiques tout en imprimant la progression\n",
    "nn1.fit(X_train_std, y_train)\n",
    "\n",
    "# Afficher la précision sur les ensembles d'entraînement et de test\n",
    "print('Train Accuracy: %.2f%%' % (100 * nn1.score(X_train_std, y_train)))\n",
    "print('Test Accuracy: %.2f%%' % (100 * nn1.score(X_test_std, y_test)))"
   ]
  },
  {
   "cell_type": "markdown",
   "id": "db3504fe-5c8f-47c5-bac1-5bfa53bb4bc9",
   "metadata": {},
   "source": [
    "</br>\n",
    "<div style=\"font-family: Arial; color: red ; font-size: 20px;\">\n",
    "    <b>Changement du paramètre \"hidden layers\"   </b>\n",
    "</div>\n",
    "</br>"
   ]
  },
  {
   "cell_type": "code",
   "execution_count": 8,
   "id": "e5c85b81-f196-4122-89cc-df46ac70eae2",
   "metadata": {},
   "outputs": [
    {
     "name": "stdout",
     "output_type": "stream",
     "text": [
      "Train Accuracy: 93.90%\n",
      "Test Accuracy: 93.82%\n"
     ]
    }
   ],
   "source": [
    "# Standardiser les valeurs des pixels\n",
    "X_train_std, params = standardize(X_train, columns=range(X_train.shape[1]), return_params=True)\n",
    "X_test_std = standardize(X_test, columns=range(X_test.shape[1]), params=params)\n",
    "\n",
    "# Initialiser le réseau de neurones \n",
    "nn1 = MLP(eta=0.1, epochs=300, hidden_layers=[100], n_classes=None, momentum=0.0,l1=0.0, l2=0.0, dropout=1.0, decrease_const=0.0, minibatches=1, random_seed=None, print_progress=0)\n",
    "\n",
    "\n",
    "# Apprendre les caractéristiques tout en imprimant la progression\n",
    "nn1.fit(X_train_std, y_train)\n",
    "\n",
    "# Afficher la précision sur les ensembles d'entraînement et de test\n",
    "print('Train Accuracy: %.2f%%' % (100 * nn1.score(X_train_std, y_train)))\n",
    "print('Test Accuracy: %.2f%%' % (100 * nn1.score(X_test_std, y_test)))"
   ]
  },
  {
   "cell_type": "code",
   "execution_count": 9,
   "id": "1e5f579d-8fc0-48cb-9d09-c5bfba8b4b93",
   "metadata": {},
   "outputs": [
    {
     "name": "stdout",
     "output_type": "stream",
     "text": [
      "Train Accuracy: 86.60%\n",
      "Test Accuracy: 86.40%\n"
     ]
    }
   ],
   "source": [
    "# Standardiser les valeurs des pixels\n",
    "X_train_std, params = standardize(X_train, columns=range(X_train.shape[1]), return_params=True)\n",
    "X_test_std = standardize(X_test, columns=range(X_test.shape[1]), params=params)\n",
    "\n",
    "# Initialiser le réseau de neurones \n",
    "nn1 = MLP(eta=0.1, epochs=300, hidden_layers=[25], n_classes=None, momentum=0.0,l1=0.0, l2=0.0, dropout=1.0, decrease_const=0.0, minibatches=1, random_seed=None, print_progress=0)\n",
    "\n",
    "\n",
    "# Apprendre les caractéristiques tout en imprimant la progression\n",
    "nn1.fit(X_train_std, y_train)\n",
    "\n",
    "# Afficher la précision sur les ensembles d'entraînement et de test\n",
    "print('Train Accuracy: %.2f%%' % (100 * nn1.score(X_train_std, y_train)))\n",
    "print('Test Accuracy: %.2f%%' % (100 * nn1.score(X_test_std, y_test)))"
   ]
  },
  {
   "cell_type": "code",
   "execution_count": 18,
   "id": "c95e46c9",
   "metadata": {},
   "outputs": [
    {
     "name": "stdout",
     "output_type": "stream",
     "text": [
      "Train Accuracy: 74.48%\n",
      "Test Accuracy: 74.73%\n"
     ]
    }
   ],
   "source": [
    "# Standardiser les valeurs des pixels\n",
    "X_train_std, params = standardize(X_train, columns=range(X_train.shape[1]), return_params=True)\n",
    "X_test_std = standardize(X_test, columns=range(X_test.shape[1]), params=params)\n",
    "\n",
    "# Initialiser le réseau de neurones \n",
    "nn1 = MLP(eta=0.1, epochs=300, hidden_layers=[10], n_classes=None, momentum=0.0,l1=0.0, l2=0.0, dropout=1.0, decrease_const=0.0, minibatches=1, random_seed=None, print_progress=0)\n",
    "\n",
    "\n",
    "# Apprendre les caractéristiques tout en imprimant la progression\n",
    "nn1.fit(X_train_std, y_train)\n",
    "\n",
    "# Afficher la précision sur les ensembles d'entraînement et de test\n",
    "print('Train Accuracy: %.2f%%' % (100 * nn1.score(X_train_std, y_train)))\n",
    "print('Test Accuracy: %.2f%%' % (100 * nn1.score(X_test_std, y_test)))"
   ]
  },
  {
   "cell_type": "markdown",
   "id": "14ea0351-2c75-42b8-bc45-b7eb7951e712",
   "metadata": {},
   "source": [
    "</br>\n",
    "<div style=\"font-family: Arial; color: red ; font-size: 20px;\">\n",
    "    <b>Changement du paramètre \"l1\" et \"l2\"   </b>\n",
    "</div>\n",
    "</br>"
   ]
  },
  {
   "cell_type": "code",
   "execution_count": 10,
   "id": "1cb4bec5-1e7f-44ec-a4dd-382a01d1f136",
   "metadata": {},
   "outputs": [
    {
     "name": "stdout",
     "output_type": "stream",
     "text": [
      "Train Accuracy: 87.80%\n",
      "Test Accuracy: 87.53%\n"
     ]
    }
   ],
   "source": [
    "# Standardiser les valeurs des pixels\n",
    "X_train_std, params = standardize(X_train, columns=range(X_train.shape[1]), return_params=True)\n",
    "X_test_std = standardize(X_test, columns=range(X_test.shape[1]), params=params)\n",
    "\n",
    "# Initialiser le réseau de neurones \n",
    "nn1 = MLP(eta=0.1, epochs=300, hidden_layers=[50], n_classes=None, momentum=0.0,l1=0.01, l2=0.01, dropout=1.0, decrease_const=0.0, minibatches=1, random_seed=None, print_progress=0)\n",
    "\n",
    "\n",
    "# Apprendre les caractéristiques tout en imprimant la progression\n",
    "nn1.fit(X_train_std, y_train)\n",
    "\n",
    "# Afficher la précision sur les ensembles d'entraînement et de test\n",
    "print('Train Accuracy: %.2f%%' % (100 * nn1.score(X_train_std, y_train)))\n",
    "print('Test Accuracy: %.2f%%' % (100 * nn1.score(X_test_std, y_test)))"
   ]
  },
  {
   "cell_type": "code",
   "execution_count": 11,
   "id": "66c6a4e1-72c0-4e04-a860-0be73aab5d36",
   "metadata": {},
   "outputs": [
    {
     "name": "stdout",
     "output_type": "stream",
     "text": [
      "Train Accuracy: 76.14%\n",
      "Test Accuracy: 76.11%\n"
     ]
    }
   ],
   "source": [
    "# Standardiser les valeurs des pixels\n",
    "X_train_std, params = standardize(X_train, columns=range(X_train.shape[1]), return_params=True)\n",
    "X_test_std = standardize(X_test, columns=range(X_test.shape[1]), params=params)\n",
    "\n",
    "# Initialiser le réseau de neurones \n",
    "nn1 = MLP(eta=0.1, epochs=300, hidden_layers=[50], n_classes=None, momentum=0.0,l1=0.1, l2=0.1, dropout=1.0, decrease_const=0.0, minibatches=1, random_seed=None, print_progress=0)\n",
    "\n",
    "\n",
    "# Apprendre les caractéristiques tout en imprimant la progression\n",
    "nn1.fit(X_train_std, y_train)\n",
    "\n",
    "# Afficher la précision sur les ensembles d'entraînement et de test\n",
    "print('Train Accuracy: %.2f%%' % (100 * nn1.score(X_train_std, y_train)))\n",
    "print('Test Accuracy: %.2f%%' % (100 * nn1.score(X_test_std, y_test)))"
   ]
  },
  {
   "cell_type": "markdown",
   "id": "b56487a4-497a-430f-a404-8480013c71bc",
   "metadata": {},
   "source": [
    "</br>\n",
    "<div style=\"font-family: Arial; color: red ; font-size: 20px;\">\n",
    "    <b>Changement du paramètre \"dropout\"   </b>\n",
    "</div>\n",
    "</br>"
   ]
  },
  {
   "cell_type": "code",
   "execution_count": 12,
   "id": "e286958e-a4a8-44d3-83e9-8565b6ee48b3",
   "metadata": {},
   "outputs": [
    {
     "name": "stdout",
     "output_type": "stream",
     "text": [
      "Train Accuracy: 90.88%\n",
      "Test Accuracy: 90.84%\n"
     ]
    }
   ],
   "source": [
    "# Standardiser les valeurs des pixels\n",
    "X_train_std, params = standardize(X_train, columns=range(X_train.shape[1]), return_params=True)\n",
    "X_test_std = standardize(X_test, columns=range(X_test.shape[1]), params=params)\n",
    "\n",
    "# Initialiser le réseau de neurones \n",
    "nn1 = MLP(eta=0.1, epochs=300, hidden_layers=[50], n_classes=None, momentum=0.0,l1=0.0, l2=0.0, dropout=0.5, decrease_const=0.0, minibatches=1, random_seed=None, print_progress=0)\n",
    "\n",
    "\n",
    "# Apprendre les caractéristiques tout en imprimant la progression\n",
    "nn1.fit(X_train_std, y_train)\n",
    "\n",
    "# Afficher la précision sur les ensembles d'entraînement et de test\n",
    "print('Train Accuracy: %.2f%%' % (100 * nn1.score(X_train_std, y_train)))\n",
    "print('Test Accuracy: %.2f%%' % (100 * nn1.score(X_test_std, y_test)))"
   ]
  },
  {
   "cell_type": "code",
   "execution_count": 20,
   "id": "009d1bd4",
   "metadata": {},
   "outputs": [
    {
     "name": "stdout",
     "output_type": "stream",
     "text": [
      "Train Accuracy: 82.64%\n",
      "Test Accuracy: 82.64%\n"
     ]
    }
   ],
   "source": [
    "# Standardiser les valeurs des pixels\n",
    "X_train_std, params = standardize(X_train, columns=range(X_train.shape[1]), return_params=True)\n",
    "X_test_std = standardize(X_test, columns=range(X_test.shape[1]), params=params)\n",
    "\n",
    "# Initialiser le réseau de neurones \n",
    "nn1 = MLP(eta=0.1, epochs=300, hidden_layers=[50], n_classes=None, momentum=0.0,l1=0.0, l2=0.0, dropout=0.25, decrease_const=0.0, minibatches=1, random_seed=None, print_progress=0)\n",
    "\n",
    "\n",
    "# Apprendre les caractéristiques tout en imprimant la progression\n",
    "nn1.fit(X_train_std, y_train)\n",
    "\n",
    "# Afficher la précision sur les ensembles d'entraînement et de test\n",
    "print('Train Accuracy: %.2f%%' % (100 * nn1.score(X_train_std, y_train)))\n",
    "print('Test Accuracy: %.2f%%' % (100 * nn1.score(X_test_std, y_test)))"
   ]
  },
  {
   "cell_type": "markdown",
   "id": "7f50e0b1-57be-4dc6-8936-3b3b80b66037",
   "metadata": {},
   "source": [
    "</br>\n",
    "<div style=\"font-family: Arial; color: red ; font-size: 20px;\">\n",
    "    <b>Changement de tous les paramètres:  </b>\n",
    "</div>\n",
    "</br>"
   ]
  },
  {
   "cell_type": "code",
   "execution_count": 14,
   "id": "4709d332-ed80-47b6-8e30-223a20c47bc5",
   "metadata": {},
   "outputs": [
    {
     "name": "stdout",
     "output_type": "stream",
     "text": [
      "Train Accuracy: 99.98%\n",
      "Test Accuracy: 99.98%\n"
     ]
    }
   ],
   "source": [
    "# Standardiser les valeurs des pixels\n",
    "X_train_std, params = standardize(X_train, columns=range(X_train.shape[1]), return_params=True)\n",
    "X_test_std = standardize(X_test, columns=range(X_test.shape[1]), params=params)\n",
    "\n",
    "# Initialiser le réseau de neurones \n",
    "nn1 = MLP(eta=0.001, epochs=300, hidden_layers=[100], n_classes=None, momentum=0.0,l1=0.0, l2=0.0, dropout=1.0, decrease_const=0.0, minibatches=1, random_seed=None, print_progress=0)\n",
    "\n",
    "\n",
    "# Apprendre les caractéristiques tout en imprimant la progression\n",
    "nn1.fit(X_train_std, y_train)\n",
    "\n",
    "# Afficher la précision sur les ensembles d'entraînement et de test\n",
    "print('Train Accuracy: %.2f%%' % (100 * nn1.score(X_train_std, y_train)))\n",
    "print('Test Accuracy: %.2f%%' % (100 * nn1.score(X_test_std, y_test)))"
   ]
  },
  {
   "cell_type": "markdown",
   "id": "5265ab5f-ffac-45cc-bed7-eb061d071c55",
   "metadata": {},
   "source": [
    "</br>\n",
    "<div style=\"font-family: Arial; color: #27AE60 ; font-size: 45px;\">\n",
    "    <b>Application d'autres Modèles:</b>\n",
    "</div>\n",
    "</br>"
   ]
  },
  {
   "cell_type": "code",
   "execution_count": 15,
   "id": "57e9dfb3-a037-496a-a17a-ccfbac332e49",
   "metadata": {},
   "outputs": [
    {
     "name": "stderr",
     "output_type": "stream",
     "text": [
      "C:\\Users\\dell\\anaconda3\\lib\\site-packages\\mlxtend\\classifier\\logistic_regression.py:169: RuntimeWarning: overflow encountered in exp\n",
      "  return 1.0 / (1.0 + np.exp(-z))\n",
      "C:\\Users\\dell\\anaconda3\\lib\\site-packages\\mlxtend\\classifier\\logistic_regression.py:161: RuntimeWarning: divide by zero encountered in log\n",
      "  logit = -y.dot(np.log(y_val)) - ((1 - y).dot(np.log(1 - y_val)))\n"
     ]
    },
    {
     "name": "stdout",
     "output_type": "stream",
     "text": [
      "Train Accuracy (MLP): 92.58%\n",
      "Test Accuracy (MLP): 92.42%\n",
      "Train Accuracy (Logistic Regression): 99.80%\n",
      "Test Accuracy (Logistic Regression): 99.84%\n"
     ]
    }
   ],
   "source": [
    "from mlxtend.classifier import MultiLayerPerceptron as MLP\n",
    "from mlxtend.classifier import LogisticRegression\n",
    "from mlxtend.data import mnist_data\n",
    "from mlxtend.preprocessing import shuffle_arrays_unison, standardize\n",
    "import matplotlib.pyplot as plt\n",
    "\n",
    "# Charger les données MNIST\n",
    "X, y = mnist_data()\n",
    "X, y = shuffle_arrays_unison((X, y), random_seed=1)\n",
    "\n",
    "# Diviser les données en ensembles d'entraînement et de test\n",
    "X_train, y_train = X[:5000], y[:5000]\n",
    "X_test, y_test = X[500:], y[500:]\n",
    "\n",
    "# Standardiser les valeurs des pixels\n",
    "X_train_std, params = standardize(X_train, columns=range(X_train.shape[1]), return_params=True)\n",
    "X_test_std = standardize(X_test, columns=range(X_test.shape[1]), params=params)\n",
    "\n",
    "# Binairiser les étiquettes\n",
    "y_train_binary = (y_train == 0).astype(int)  # Classe 0 vs toutes les autres\n",
    "y_test_binary = (y_test == 0).astype(int)\n",
    "\n",
    "# Initialiser et entraîner le modèle MLP\n",
    "nn_model = MLP(eta=0.001, epochs=300, hidden_layers=[100])\n",
    "nn_model.fit(X_train_std, y_train_binary)\n",
    "\n",
    "# Initialiser et entraîner le modèle de régression logistique\n",
    "lr_model = LogisticRegression(eta=0.1, epochs=50)\n",
    "lr_model.fit(X_train_std, y_train_binary)\n",
    "\n",
    "# Comparer les performances\n",
    "print('Train Accuracy (MLP): %.2f%%' % (100 * nn_model.score(X_train_std, y_train_binary)))\n",
    "print('Test Accuracy (MLP): %.2f%%' % (100 * nn_model.score(X_test_std, y_test_binary)))\n",
    "\n",
    "print('Train Accuracy (Logistic Regression): %.2f%%' % (100 * lr_model.score(X_train_std, y_train_binary)))\n",
    "print('Test Accuracy (Logistic Regression): %.2f%%' % (100 * lr_model.score(X_test_std, y_test_binary)))\n"
   ]
  },
  {
   "cell_type": "code",
   "execution_count": null,
   "id": "be830ba0",
   "metadata": {},
   "outputs": [],
   "source": []
  }
 ],
 "metadata": {
  "kernelspec": {
   "display_name": "Python 3 (ipykernel)",
   "language": "python",
   "name": "python3"
  },
  "language_info": {
   "codemirror_mode": {
    "name": "ipython",
    "version": 3
   },
   "file_extension": ".py",
   "mimetype": "text/x-python",
   "name": "python",
   "nbconvert_exporter": "python",
   "pygments_lexer": "ipython3",
   "version": "3.8.18"
  }
 },
 "nbformat": 4,
 "nbformat_minor": 5
}
