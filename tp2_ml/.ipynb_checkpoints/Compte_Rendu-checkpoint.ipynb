{
 "cells": [
  {
   "cell_type": "markdown",
   "id": "b3edd718-db88-4ce3-81c0-457c719d855e",
   "metadata": {},
   "source": [
    "<div style=\"font-family: Arial; color: #5DADE2; text-align: center; font-size: 36px;\">\n",
    "    <i>Compte Rendu TP 2 Atelier ML</i>\n",
    "</div>\n",
    "<div style=\"font-family: Arial; color: #27AE60 ; font-size: 20px;\">\n",
    "    <b>Réalisé Par:</b>\n",
    "</div>\n",
    "<ul style=\"font-family: Arial; color: #2E86C1 ; font-size: 18px;\">\n",
    "    <li>Ouhibi Ons</li>\n",
    "    <li>Ben Zaied Mouna</li>\n",
    "</ul>\n",
    "<div style=\"font-family: Arial; color: #27AE60 ; text-align: left; padding-left: 20px; font-size: 15px;\">\n",
    "    <b>RT4 Groupe 2</b>\n",
    "</div>\n"
   ]
  },
  {
   "cell_type": "code",
   "execution_count": 1,
   "id": "be3c03b2-f27d-4c09-99b4-b01283591558",
   "metadata": {},
   "outputs": [],
   "source": [
    "import matplotlib.pyplot as plt\n",
    "import pandas as pd"
   ]
  },
  {
   "cell_type": "markdown",
   "id": "592cd530-db5a-48f1-adfd-b9b983ea3a8a",
   "metadata": {},
   "source": [
    "<div style=\"font-family: Arial; color: #5DADE2; text-align: center; font-size: 25px;\">\n",
    "    <i>Partie 1: Préparation des données</i>\n",
    "</div>"
   ]
  },
  {
   "cell_type": "markdown",
   "id": "979f4848-edb8-4b88-954e-2ac8c22c8c03",
   "metadata": {},
   "source": [
    "<div style=\"font-family: Open Sans; color: #2E86C1 ; font-size:20px;; \">\n",
    "    <b>1-Nettoyage des données: \n",
    "</b>\n",
    "</div>"
   ]
  },
  {
   "cell_type": "markdown",
   "id": "3066efc4-3efd-45ba-8333-2ecd87b991ae",
   "metadata": {},
   "source": [
    "<div style=\"font-family: Arial; color: #27AE60 ; font-size: 17px;\">\n",
    "    <b>a- Visualisation des propriétés de données:</b>\n",
    "</div>"
   ]
  },
  {
   "cell_type": "code",
   "execution_count": 2,
   "id": "a8c0854f-c115-486a-b649-b32d852bc2bc",
   "metadata": {},
   "outputs": [
    {
     "name": "stdout",
     "output_type": "stream",
     "text": [
      "          B\n",
      "A  count  1    1.0\n",
      "          2    2.0\n",
      "          3    1.0\n",
      "          4    1.0\n",
      "          5    2.0\n",
      "              ... \n",
      "C  max    1    5.0\n",
      "          2    3.0\n",
      "          3    4.0\n",
      "          4    1.0\n",
      "          5    3.0\n",
      "Length: 80, dtype: float64\n"
     ]
    }
   ],
   "source": [
    "# Création du DataFrame à partir d'un dictionnaire\n",
    "df = pd.DataFrame({'A': [0, 0, 0, 0, 0, 1, 1],\n",
    "                   'B': [1, 2, 3, 5, 4, 2, 5],\n",
    "                   'C': [5, 3, 4, 1, 1, 2, 3]})\n",
    "\n",
    "# Regroupement des données en fonction de la colonne 'B'\n",
    "a_group_desc = df.groupby('B').describe()\n",
    "\n",
    "# Déplacement des niveaux d'index\n",
    "unstacked = a_group_desc.unstack()\n",
    "\n",
    "#Affichage\n",
    "print(unstacked)\n"
   ]
  },
  {
   "cell_type": "markdown",
   "id": "91b84fc4",
   "metadata": {},
   "source": [
    "\n",
    "<div style=\"font-family: Arial; color: #27AE60 ; font-size: 20px;\">\n",
    "    <b>Interprétation: </b>\n",
    "</div>\n",
    "<div>\n",
    "    <p> Ce code réalise une analyse de données en regroupant et en comparant les distributions des variables 'A' et 'C' en fonction des valeurs de la colonne 'B'. Cette approche permet de détecter les relations entre les variables, tout en identifiant les problèmes potentiels tels que la redondance des données, les valeurs manquantes ou les erreurs.</p>\n",
    "    </div>\n",
    "\n"
   ]
  },
  {
   "cell_type": "markdown",
   "id": "8c5fe24f-4e01-4b3c-a019-e623ada90b61",
   "metadata": {},
   "source": [
    "<div style=\"font-family: Arial; color: #27AE60 ; font-size: 17px;\">\n",
    "    <b>b-Détection et suppression des données redondantes:</b>\n",
    "</div>"
   ]
  },
  {
   "cell_type": "code",
   "execution_count": 5,
   "id": "f442f25d-d0ce-45c4-86ec-14d01c93f588",
   "metadata": {},
   "outputs": [
    {
     "name": "stdout",
     "output_type": "stream",
     "text": [
      "Data : \n",
      "\n",
      "     brand style  rating\n",
      "0  Yum Yum   cup     4.0\n",
      "1  Yum Yum   cup     4.0\n",
      "2  Indomie   cup     3.5\n",
      "3  Indomie  pack    15.0\n",
      "4  Indomie  pack     5.0\n",
      "\n",
      " Les données doublons \n",
      "\n",
      "1    True\n",
      "dtype: bool\n",
      "1\n",
      "\n",
      " Suppression des données doublons \n",
      "\n",
      "\n",
      " Données après suppression des doublons :\n",
      "     brand style  rating\n",
      "0  Yum Yum   cup     4.0\n",
      "2  Indomie   cup     3.5\n",
      "3  Indomie  pack    15.0\n",
      "4  Indomie  pack     5.0\n"
     ]
    }
   ],
   "source": [
    "# Créez un DataFrame à partir d'un dictionnaire\n",
    "df = pd.DataFrame({\n",
    " 'brand': ['Yum Yum', 'Yum Yum', 'Indomie', 'Indomie', 'Indomie'],\n",
    " 'style': ['cup', 'cup', 'cup', 'pack', 'pack'],\n",
    " 'rating': [4, 4, 3.5, 15, 5]\n",
    "})\n",
    "\n",
    "# Recherchez les doublons dans le DataFrame\n",
    "search = pd.DataFrame.duplicated(df)\n",
    "\n",
    "# Affichez le DataFrame d'origine\n",
    "print(\"Data : \\n\")\n",
    "print(df)\n",
    "\n",
    "# Affichez les lignes marquées comme des doublons (True)\n",
    "print(\"\\n Les données doublons \\n\")\n",
    "print(search[search == True])\n",
    "\n",
    "# Affichez le nombre total de doublons\n",
    "print(search.sum())\n",
    "\n",
    "# Supprimez les doublons et créez un nouveau DataFrame sans eux\n",
    "print(\"\\n Suppression des données doublons \\n\")\n",
    "df_no_duplicates = df[~search]\n",
    "\n",
    "# Affichez le DataFrame après suppression des doublons\n",
    "print(\"\\n Données après suppression des doublons :\")\n",
    "print(df_no_duplicates)\n"
   ]
  },
  {
   "cell_type": "markdown",
   "id": "aff8355e",
   "metadata": {},
   "source": [
    "<div style=\"font-family: Arial; color: #27AE60 ; font-size: 20px;\">\n",
    "    <b>Interprétation: </b>\n",
    "</div>\n",
    "</br>\n",
    "<div>\n",
    "    <p>Ce code identifie les doublons et crée un nouveau DataFrame. Cela permet de nettoyer les données, offrant ainsi une version du DataFrame initiale sans ces répétitions.</p>\n",
    "    </div>"
   ]
  },
  {
   "cell_type": "markdown",
   "id": "115c47df-b0ab-40fd-a5ac-e046028ef4cd",
   "metadata": {},
   "source": [
    "<div style=\"font-family: Arial; color: #27AE60 ; font-size: 17px;\">\n",
    "    <b>c- Détection et traitement des données manquantes (missing data):</b>\n",
    "</div>"
   ]
  },
  {
   "cell_type": "code",
   "execution_count": 8,
   "id": "21931506-a7f2-4a7f-9119-2c6113ff591a",
   "metadata": {},
   "outputs": [
    {
     "name": "stdout",
     "output_type": "stream",
     "text": [
      "Visualiser les données manquantes : True signifie la détection de données manquantes\n",
      "   brand  style  rating\n",
      "0  False  False   False\n",
      "1  False   True   False\n",
      "2  False  False    True\n",
      "3  False  False   False\n",
      "4   True  False   False\n",
      "Isoler les données manquantes\n",
      "     brand style  rating\n",
      "1  Yum Yum  None     4.0\n",
      "2  Indomie   cup     NaN\n",
      "4     None  pack     5.0\n",
      "Nombre de données manquantes par colonne :\n",
      "brand     1\n",
      "style     1\n",
      "rating    1\n",
      "dtype: int64\n",
      "Nombre total de données manquantes :\n",
      "3\n",
      "Remplacer les données manquantes par la moyenne\n",
      "     brand style  rating\n",
      "0  Yum Yum   cup     4.0\n",
      "1  Yum Yum  None     4.0\n",
      "2  Indomie   cup     7.0\n",
      "3  Indomie  pack    15.0\n",
      "4     None  pack     5.0\n",
      "Supprimer les données manquantes\n",
      "     brand style  rating\n",
      "0  Yum Yum   cup     4.0\n",
      "2  Indomie   cup     7.0\n",
      "3  Indomie  pack    15.0\n"
     ]
    }
   ],
   "source": [
    "# Création du DataFrame s\n",
    "s = pd.DataFrame([1, 2, 3, np.NaN, 5, 6, None])\n",
    "\n",
    "# Création du DataFrame df\n",
    "df = pd.DataFrame({\n",
    "    'brand': ['Yum Yum', 'Yum Yum', 'Indomie', 'Indomie', None],\n",
    "    'style': ['cup', None, 'cup', 'pack', 'pack'],\n",
    "    'rating': [4, 4, np.NaN, 15, 5]\n",
    "})\n",
    "\n",
    "# Visualiser les données manquantes\n",
    "print(\"Visualiser les données manquantes : True signifie la détection de données manquantes\")\n",
    "print(df.isnull())\n",
    "\n",
    "# Isoler les données manquantes\n",
    "print(\"Isoler les données manquantes\")\n",
    "missing_data = df[df.isnull().any(axis=1)]\n",
    "print(missing_data)\n",
    "\n",
    "# Imprimer le nombre de données manquantes par colonne et le nombre total\n",
    "print(\"Nombre de données manquantes par colonne :\")\n",
    "print(df.isnull().sum())\n",
    "print(\"Nombre total de données manquantes :\")\n",
    "print(df.isnull().sum().sum())\n",
    "\n",
    "# Remplacer les données manquantes par la moyenne\n",
    "print(\"Remplacer les données manquantes par la moyenne\")\n",
    "df['rating'].fillna(df['rating'].mean(), inplace=True)\n",
    "print(df)\n",
    "\n",
    "# Supprimer les données manquantes\n",
    "print(\"Supprimer les données manquantes\")\n",
    "df.dropna(inplace=True)\n",
    "print(df)\n"
   ]
  },
  {
   "cell_type": "markdown",
   "id": "d4955334",
   "metadata": {},
   "source": [
    "<div style=\"font-family: Arial; color: #27AE60 ; font-size: 20px;\">\n",
    "    <b>Interprétation: </b>\n",
    "</div>\n",
    "</br>\n",
    "<div>\n",
    "    <p>Ce code permet de supprimer les données manquantes ce qui rend les résultats plus précis mais cela peut engendrer la perte des informations importantes. Le fait de remplacer les valeurs manquantes par la moyenne est plus simple et garde la logique des données, mais il peut fausser légèrement les résultats. Le choix dépend donc de la situation et du contexte.</p>\n",
    "</div>"
   ]
  },
  {
   "cell_type": "markdown",
   "id": "9f0169c1-e906-4076-8d69-9969698ae392",
   "metadata": {},
   "source": [
    "<div style=\"font-family: Arial; color: #27AE60 ; font-size: 17px;\">\n",
    "    <b>d- Imputation des données manquantes:</b>\n",
    "</div>"
   ]
  },
  {
   "cell_type": "code",
   "execution_count": 30,
   "id": "0cd50ca0-4cec-4d78-93dd-c22899467b39",
   "metadata": {},
   "outputs": [
    {
     "name": "stdout",
     "output_type": "stream",
     "text": [
      "Données :\n",
      "       x0      x1\n",
      "0  0.3051     NaN\n",
      "1  0.4949  0.2654\n",
      "2  0.6974  0.2615\n",
      "3  0.3769  0.5846\n",
      "4  0.2231  0.4615\n",
      "5  0.3410  0.8308\n",
      "6  0.4436  0.4962\n",
      "7  0.5897  0.3269\n",
      "8  0.6308  0.5346\n",
      "9  0.5000  0.6731\n",
      "Recherche des valeurs manquantes et remplacement par la moyenne de la colonne\n",
      "Données après imputation par la moyenne :\n",
      "       x0        x1\n",
      "0  0.3051  0.492733\n",
      "1  0.4949  0.265400\n",
      "2  0.6974  0.261500\n",
      "3  0.3769  0.584600\n",
      "4  0.2231  0.461500\n",
      "5  0.3410  0.830800\n",
      "6  0.4436  0.496200\n",
      "7  0.5897  0.326900\n",
      "8  0.6308  0.534600\n",
      "9  0.5000  0.673100\n",
      "Changer la stratégie d'imputation (median) et analyser le résultat\n",
      "Data après imputation par la médiane :\n",
      "       x0      x1\n",
      "0  0.3051  0.4962\n",
      "1  0.4949  0.2654\n",
      "2  0.6974  0.2615\n",
      "3  0.3769  0.5846\n",
      "4  0.2231  0.4615\n",
      "5  0.3410  0.8308\n",
      "6  0.4436  0.4962\n",
      "7  0.5897  0.3269\n",
      "8  0.6308  0.5346\n",
      "9  0.5000  0.6731\n",
      "Changer la stratégie d'imputation (most_frequent) et analyser le résultat\n",
      "Data après imputation par la valeur la plus fréquente :\n",
      "       x0      x1\n",
      "0  0.3051  0.2615\n",
      "1  0.4949  0.2654\n",
      "2  0.6974  0.2615\n",
      "3  0.3769  0.5846\n",
      "4  0.2231  0.4615\n",
      "5  0.3410  0.8308\n",
      "6  0.4436  0.4962\n",
      "7  0.5897  0.3269\n",
      "8  0.6308  0.5346\n",
      "9  0.5000  0.6731\n"
     ]
    },
    {
     "name": "stderr",
     "output_type": "stream",
     "text": [
      "C:\\Users\\dell\\anaconda3\\lib\\site-packages\\sklearn\\impute\\_base.py:49: FutureWarning: Unlike other reduction functions (e.g. `skew`, `kurtosis`), the default behavior of `mode` typically preserves the axis it acts along. In SciPy 1.11.0, this behavior will change: the default value of `keepdims` will become False, the `axis` over which the statistic is taken will be eliminated, and the value None will no longer be accepted. Set `keepdims` to True or False to avoid this warning.\n",
      "  mode = stats.mode(array)\n"
     ]
    }
   ],
   "source": [
    "from sklearn.impute import SimpleImputer as Imputer\n",
    "\n",
    "# Créer un ensemble de données vide\n",
    "df = pd.DataFrame()\n",
    "\n",
    "# Créer deux variables appelées x0 et x1. Mettez la première valeur de x1 comme une valeur manquante (NaN).\n",
    "df['x0'] = [0.3051, 0.4949, 0.6974, 0.3769, 0.2231, 0.341, 0.4436, 0.5897, 0.6308, 0.5]\n",
    "df['x1'] = [np.nan, 0.2654, 0.2615, 0.5846, 0.4615, 0.8308, 0.4962, 0.3269, 0.5346, 0.6731]\n",
    "\n",
    "# Afficher l'ensemble de données\n",
    "print(\"Données :\")\n",
    "print(df)\n",
    "\n",
    "# Créer un objet d'imputation qui recherche les valeurs 'NaN' et les remplace par la valeur moyenne de la caractéristique par colonnes (axe=0).\n",
    "print(\"Recherche des valeurs manquantes et remplacement par la moyenne de la colonne\")\n",
    "mean_imputer = Imputer(missing_values=np.nan, strategy='mean')\n",
    "imputed_df_mean = pd.DataFrame(mean_imputer.fit_transform(df), columns=df.columns)\n",
    "\n",
    "# Afficher l'ensemble de données après l'imputation par la moyenne\n",
    "print(\"Données après imputation par la moyenne :\")\n",
    "print(imputed_df_mean)\n",
    "\n",
    "# Changer la stratégie d'imputation et analyser le résultat\n",
    "print(\"Changer la stratégie d'imputation (median) et analyser le résultat\")\n",
    "median_imputer = Imputer(missing_values=np.nan, strategy='median')\n",
    "imputed_df_median = pd.DataFrame(median_imputer.fit_transform(df), columns=df.columns)\n",
    "print(\"Data après imputation par la médiane :\")\n",
    "print(imputed_df_median)\n",
    "\n",
    "print(\"Changer la stratégie d'imputation (most_frequent) et analyser le résultat\")\n",
    "most_frequent_imputer = Imputer(missing_values=np.nan, strategy='most_frequent')\n",
    "imputed_df_most_frequent = pd.DataFrame(most_frequent_imputer.fit_transform(df), columns=df.columns)\n",
    "print(\"Data après imputation par la valeur la plus fréquente :\")\n",
    "print(imputed_df_most_frequent)\n",
    "\n"
   ]
  },
  {
   "cell_type": "markdown",
   "id": "a66d8b18",
   "metadata": {},
   "source": [
    "<div style=\"font-family: Arial; color: #27AE60 ; font-size: 20px;\">\n",
    "    <b>Interprétation: </b>\n",
    "</div>\n",
    "</br>\n",
    "<div>\n",
    "    <p>Ce code démontre différentes stratégies d'imputation de données (par la moyenne, la médiane et la valeur la plus fréquente) pour remplir les valeurs manquantes dans un ensemble de données</p>\n",
    "    </div>\n",
    "    </br>\n",
    "<div>\n",
    "    <p> Ce code permet de comprendre l'importance de choisir la bonne stratégie d'imputation en fonction des caractéristiques des données. La moyenne, bien qu'elle soit simple à calculer, est sensible aux valeurs extrêmes, ce qui peut fausser les résultats dans les distributions non normales. En revanche, la médiane, est plus robuste face aux valeurs aberrantes. Par ailleurs, la stratégie de valeur la plus fréquente est adaptée aux variables catégorielles.\n",
    "      </p>\n",
    "    </div>\n",
    "    </br>\n",
    "    <div>\n",
    "    <p>  Le choix entre ces stratégies dépend donc de la distribution des données, de la nature des variables et des objectifs spécifiques de l'analyse.  </p>\n",
    "    </div>"
   ]
  },
  {
   "cell_type": "markdown",
   "id": "92c0774d-d4d7-459a-b5d7-c17611807d58",
   "metadata": {},
   "source": [
    "<div style=\"font-family: Arial; color: #27AE60 ; font-size: 17px;\">\n",
    "    <b>e- Sorting et Shuffling :</b>\n",
    "</div>"
   ]
  },
  {
   "cell_type": "code",
   "execution_count": 13,
   "id": "2b630434-ea9d-4460-9c2e-2b57b833c31e",
   "metadata": {},
   "outputs": [
    {
     "name": "stdout",
     "output_type": "stream",
     "text": [
      "Le jeu de données initial :\n",
      "   A  B  C\n",
      "0  2  1  5\n",
      "1  1  2  3\n",
      "2  2  3  4\n",
      "3  3  5  1\n",
      "4  3  4  1\n",
      "5  5  2  2\n",
      "6  4  5  3\n",
      "Le jeu de données est trié selon la colonne 'A'\n",
      "   A  B  C\n",
      "1  1  2  3\n",
      "0  2  1  5\n",
      "2  2  3  4\n",
      "3  3  5  1\n",
      "4  3  4  1\n",
      "6  4  5  3\n",
      "5  5  2  2\n",
      "Le jeu de données est mélangé\n",
      "DataFrame après mélange et réinitialisation de l'indice :\n",
      "   A  B  C\n",
      "0  3  5  1\n",
      "1  3  4  1\n",
      "2  4  5  3\n",
      "3  2  3  4\n",
      "4  5  2  2\n",
      "5  2  1  5\n",
      "6  1  2  3\n"
     ]
    }
   ],
   "source": [
    "df = pd.DataFrame({'A': [2, 1, 2, 3, 3, 5, 4], 'B': [1, 2, 3, 5, 4, 2, 5], 'C': [5, 3, 4, 1, 1, 2, 3]})\n",
    "\n",
    "# Afficher le DataFrame initial\n",
    "print(\"Le jeu de données initial :\")\n",
    "print(df)\n",
    "\n",
    "# Trier le jeu de données selon la colonne 'A' de manière croissante\n",
    "print(\"Le jeu de données est trié selon la colonne 'A'\")\n",
    "df = df.sort_values(by='A', ascending=True)\n",
    "print(df)\n",
    "\n",
    "# Mélanger le jeu de données\n",
    "print(\"Le jeu de données est mélangé\")\n",
    "index = df.index.tolist()\n",
    "np.random.shuffle(index)\n",
    "df = df.iloc[index]\n",
    "\n",
    "# Réinitialiser l'indice du DataFrame\n",
    "df = df.reset_index(drop=True)\n",
    "\n",
    "# Afficher le DataFrame avec un nouvel indice\n",
    "print(\"DataFrame après mélange et réinitialisation de l'indice :\")\n",
    "print(df)\n"
   ]
  },
  {
   "cell_type": "markdown",
   "id": "c6a57885",
   "metadata": {},
   "source": [
    "<div style=\"font-family: Arial; color: #27AE60 ; font-size: 20px;\">\n",
    "    <b>Interprétation: </b>\n",
    "</div>\n",
    "</br>\n",
    "<div>\n",
    "    <p>Ce code montre comment trier un DataFrame en fonction d'une colonne spécifique, mélanger aléatoirement les lignes et réinitialiser l'indice du DataFrame pour obtenir différents ordres des données.</p>\n",
    "    </div>\n",
    "    </br>\n",
    "<div>\n",
    "    <p> Mélanger le jeu de données avant l'entraînement d'un modèle permet à ce dernier d'apprendre à partir d'un échantillon plus représentatif (bien mélangé), ce qui améliore sa capacité à généraliser et à performer efficacement sur de nouvelles données. </p>\n",
    "    </div>"
   ]
  },
  {
   "cell_type": "markdown",
   "id": "1f3f1abe-60bd-4c0d-9ed0-1b97de43c3d1",
   "metadata": {},
   "source": [
    "<div style=\"font-family: Open Sans; color: #2E86C1 ; font-size:20px;; \">\n",
    "    <b>2- Transformation des données: \n",
    "</b>\n",
    "</div>"
   ]
  },
  {
   "cell_type": "markdown",
   "id": "2d8f30a6-71ed-43d3-9905-bf5bf054e211",
   "metadata": {},
   "source": [
    "<div style=\"font-family: Arial; color: #27AE60 ; font-size: 17px;\">\n",
    "    <b>a- Normalisation:</b>\n",
    "</div>"
   ]
  },
  {
   "cell_type": "code",
   "execution_count": 16,
   "id": "473c4d2f-95c1-4c63-955f-450654b061e9",
   "metadata": {},
   "outputs": [
    {
     "name": "stdout",
     "output_type": "stream",
     "text": [
      "Data:\n",
      "    constructor          Model  MYCT  MMIN   MMAX  CACH  CHMIN  CHMAX  PRP  \\\n",
      "0       adviser          32/60   125   256   6000   256     16    128  198   \n",
      "1        amdahl         470v/7    29  8000  32000    32      8     32  269   \n",
      "2        amdahl        470v/7a    29  8000  32000    32      8     32  220   \n",
      "3        amdahl        470v/7b    29  8000  32000    32      8     32  172   \n",
      "4        amdahl        470v/7c    29  8000  16000    32      8     16  132   \n",
      "..          ...            ...   ...   ...    ...   ...    ...    ...  ...   \n",
      "204      sperry           80/8   124  1000   8000     0      1      8   42   \n",
      "205      sperry  90/80-model-3    98  1000   8000    32      2      8   46   \n",
      "206      sratus             32   125  2000   8000     0      2     14   52   \n",
      "207        wang         vs-100   480   512   8000    32      0      0   67   \n",
      "208        wang          vs-90   480  1000   4000     0      0      0   45   \n",
      "\n",
      "     ERP  \n",
      "0    199  \n",
      "1    253  \n",
      "2    253  \n",
      "3    253  \n",
      "4    132  \n",
      "..   ...  \n",
      "204   37  \n",
      "205   50  \n",
      "206   41  \n",
      "207   47  \n",
      "208   25  \n",
      "\n",
      "[209 rows x 10 columns]\n",
      "\n",
      "********** Normalisation *********\n",
      "\n",
      "Moyenne après Min-Max Scaling :\n",
      "MYCT=0.13, MMAX=0.18\n",
      "\n",
      "\n",
      "Valeur minimale et maximale pour la feature MYCT après Min-Max Scaling:\n",
      "MIN=0.00, MAX=1.00\n",
      "\n",
      "\n",
      "Valeur minimale et maximale pour la feature MMAX après Min-Max Scaling:\n",
      "MIN=0.00, MAX=1.00\n",
      "\n",
      "Data après normalisation Min-Max Scaling:\n",
      "    constructor          Model      MYCT  MMIN      MMAX  CACH  CHMIN  CHMAX  \\\n",
      "0       adviser          32/60  0.072825   256  0.092843   256     16    128   \n",
      "1        amdahl         470v/7  0.008092  8000  0.499499    32      8     32   \n",
      "2        amdahl        470v/7a  0.008092  8000  0.499499    32      8     32   \n",
      "3        amdahl        470v/7b  0.008092  8000  0.499499    32      8     32   \n",
      "4        amdahl        470v/7c  0.008092  8000  0.249249    32      8     16   \n",
      "..          ...            ...       ...   ...       ...   ...    ...    ...   \n",
      "204      sperry           80/8  0.072151  1000  0.124124     0      1      8   \n",
      "205      sperry  90/80-model-3  0.054619  1000  0.124124    32      2      8   \n",
      "206      sratus             32  0.072825  2000  0.124124     0      2     14   \n",
      "207        wang         vs-100  0.312205   512  0.124124    32      0      0   \n",
      "208        wang          vs-90  0.312205  1000  0.061562     0      0      0   \n",
      "\n",
      "     PRP  ERP  \n",
      "0    198  199  \n",
      "1    269  253  \n",
      "2    220  253  \n",
      "3    172  253  \n",
      "4    132  132  \n",
      "..   ...  ...  \n",
      "204   42   37  \n",
      "205   46   50  \n",
      "206   52   41  \n",
      "207   67   47  \n",
      "208   45   25  \n",
      "\n",
      "[209 rows x 10 columns]\n"
     ]
    }
   ],
   "source": [
    "import matplotlib.pyplot as plt\n",
    "from sklearn.preprocessing import MinMaxScaler\n",
    "\n",
    "url = 'https://archive.ics.uci.edu/ml/machine-learning-databases/cpu-performance/machine.data'\n",
    "names = ['constructor', 'Model', 'MYCT', 'MMIN', 'MMAX', 'CACH', 'CHMIN', 'CHMAX', 'PRP', 'ERP']\n",
    "dataset = pd.read_csv(url, names=names)\n",
    "\n",
    "# Afficher le jeu de données\n",
    "print(\"Data:\")\n",
    "print(dataset)\n",
    "\n",
    "# Sélectionner les colonnes à normaliser (MYCT et MMAX)\n",
    "data_to_normalize = dataset[['MYCT', 'MMAX']]\n",
    "\n",
    "# Appliquer MIN-MAX Scaling sur MYCT et MMAX\n",
    "minmax_scale = MinMaxScaler().fit(data_to_normalize)\n",
    "df_minmax = minmax_scale.transform(data_to_normalize)\n",
    "\n",
    "# Afficher les statistiques après la normalisation\n",
    "print('\\n********** Normalisation *********\\n')\n",
    "print('Moyenne après Min-Max Scaling :\\nMYCT={:.2f}, MMAX={:.2f}'.format(df_minmax[:,0].mean(), df_minmax[:,1].mean()))\n",
    "print('\\n')\n",
    "print('Valeur minimale et maximale pour la feature MYCT après Min-Max Scaling:\\nMIN={:.2f}, MAX={:.2f}'.format(df_minmax[:,0].min(), df_minmax[:,0].max()))\n",
    "print('\\n')\n",
    "print('Valeur minimale et maximale pour la feature MMAX après Min-Max Scaling:\\nMIN={:.2f}, MAX={:.2f}'.format(df_minmax[:,1].min(), df_minmax[:,1].max()))\n",
    "\n",
    "# Remplacer les colonnes MYCT et MMAX dans le jeu de données original par les valeurs normalisées\n",
    "dataset[['MYCT', 'MMAX']] = df_minmax\n",
    "\n",
    "# Afficher le jeu de données après normalisation\n",
    "print(\"\\nData après normalisation Min-Max Scaling:\")\n",
    "print(dataset)\n"
   ]
  },
  {
   "cell_type": "markdown",
   "id": "2c805825",
   "metadata": {},
   "source": [
    "<div style=\"font-family: Arial; color: #27AE60 ; font-size: 20px;\">\n",
    "    <b>Interprétation: </b>\n",
    "</div>\n",
    "</br>\n",
    "<div>\n",
    "    <p>Ce code permet de normaliser les données en utilisant la méthode de mise à l'échelle Min-Max, une technique cruciale pour la gestion des valeurs aberrantes. En appliquant la normalisation Min-Max sur les colonnes spécifiques 'MYCT' et 'MMAX', la plage de valeurs est réduite entre 0 et 1.</p>\n",
    "    </div>\n",
    "    </br>\n",
    "<div>\n",
    "    <p> \n",
    "        En effet, les valeurs minimales et maximales normalisées se situent entre 0 à 1, démontrant la réduction de l'amplitude des valeurs et la capacité de la normalisation à limiter l'impact des valeurs aberrantes sur l'analyse des données.\n",
    "      </p>\n",
    "    </div>\n"
   ]
  },
  {
   "cell_type": "markdown",
   "id": "aa0d43f3-8861-43e7-b4e6-b699269291c9",
   "metadata": {},
   "source": [
    "<div style=\"font-family: Arial; color: #27AE60 ; font-size: 17px;\">\n",
    "    <b>b- Standardisation:</b>\n",
    "</div>"
   ]
  },
  {
   "cell_type": "code",
   "execution_count": 18,
   "id": "0095f0b0-df5d-4ca0-bd4f-c8f5818dfcc3",
   "metadata": {},
   "outputs": [
    {
     "name": "stdout",
     "output_type": "stream",
     "text": [
      "Data:\n",
      "    constructor          Model  MYCT  MMIN   MMAX  CACH  CHMIN  CHMAX  PRP  \\\n",
      "0       adviser          32/60   125   256   6000   256     16    128  198   \n",
      "1        amdahl         470v/7    29  8000  32000    32      8     32  269   \n",
      "2        amdahl        470v/7a    29  8000  32000    32      8     32  220   \n",
      "3        amdahl        470v/7b    29  8000  32000    32      8     32  172   \n",
      "4        amdahl        470v/7c    29  8000  16000    32      8     16  132   \n",
      "..          ...            ...   ...   ...    ...   ...    ...    ...  ...   \n",
      "204      sperry           80/8   124  1000   8000     0      1      8   42   \n",
      "205      sperry  90/80-model-3    98  1000   8000    32      2      8   46   \n",
      "206      sratus             32   125  2000   8000     0      2     14   52   \n",
      "207        wang         vs-100   480   512   8000    32      0      0   67   \n",
      "208        wang          vs-90   480  1000   4000     0      0      0   45   \n",
      "\n",
      "     ERP  \n",
      "0    199  \n",
      "1    253  \n",
      "2    253  \n",
      "3    253  \n",
      "4    132  \n",
      "..   ...  \n",
      "204   37  \n",
      "205   50  \n",
      "206   41  \n",
      "207   47  \n",
      "208   25  \n",
      "\n",
      "[209 rows x 10 columns]\n",
      "\n",
      "********** Standardisation *********\n",
      "\n",
      "Moyenne et écart type après la standardisation de la feature MYCT:\n",
      "Moyenne = -0.00, Écart type = 1.00\n",
      "\n",
      "\n",
      "Moyenne et écart type après la standardisation de la feature MMAX:\n",
      "Moyenne = 0.00, Écart type = 1.00\n",
      "Data après la standardisation Z-Score:\n",
      "    constructor          Model      MYCT  MMIN      MMAX  CACH  CHMIN  CHMAX  \\\n",
      "0       adviser          32/60 -0.303586   256 -0.495462   256     16    128   \n",
      "1        amdahl         470v/7 -0.673330  8000  1.727049    32      8     32   \n",
      "2        amdahl        470v/7a -0.673330  8000  1.727049    32      8     32   \n",
      "3        amdahl        470v/7b -0.673330  8000  1.727049    32      8     32   \n",
      "4        amdahl        470v/7c -0.673330  8000  0.359350    32      8     16   \n",
      "..          ...            ...       ...   ...       ...   ...    ...    ...   \n",
      "204      sperry           80/8 -0.307438  1000 -0.324500     0      1      8   \n",
      "205      sperry  90/80-model-3 -0.407576  1000 -0.324500    32      2      8   \n",
      "206      sratus             32 -0.303586  2000 -0.324500     0      2     14   \n",
      "207        wang         vs-100  1.063694   512 -0.324500    32      0      0   \n",
      "208        wang          vs-90  1.063694  1000 -0.666425     0      0      0   \n",
      "\n",
      "     PRP  ERP  \n",
      "0    198  199  \n",
      "1    269  253  \n",
      "2    220  253  \n",
      "3    172  253  \n",
      "4    132  132  \n",
      "..   ...  ...  \n",
      "204   42   37  \n",
      "205   46   50  \n",
      "206   52   41  \n",
      "207   67   47  \n",
      "208   45   25  \n",
      "\n",
      "[209 rows x 10 columns]\n"
     ]
    }
   ],
   "source": [
    "from sklearn.preprocessing import StandardScaler\n",
    "\n",
    "url = 'https://archive.ics.uci.edu/ml/machine-learning-databases/cpu-performance/machine.data'\n",
    "names = ['constructor', 'Model', 'MYCT', 'MMIN', 'MMAX', 'CACH', 'CHMIN', 'CHMAX', 'PRP', 'ERP']\n",
    "dataset = pd.read_csv(url, names=names)\n",
    "\n",
    "# Afficher le jeu de données\n",
    "print(\"Data:\")\n",
    "print(dataset)\n",
    "\n",
    "# Sélectionner les colonnes à standardiser (MYCT et MMAX)\n",
    "data_to_standardize = dataset[['MYCT', 'MMAX']]\n",
    "\n",
    "# Z-Score standardisation\n",
    "std_scaler = StandardScaler().fit(data_to_standardize)\n",
    "df_std = std_scaler.transform(data_to_standardize)\n",
    "\n",
    "# Afficher les statistiques après la standardisation\n",
    "print('\\n********** Standardisation *********\\n')\n",
    "print('Moyenne et écart type après la standardisation de la feature MYCT:')\n",
    "print('Moyenne = {:.2f}, Écart type = {:.2f}'.format(df_std[:, 0].mean(), df_std[:, 0].std()))\n",
    "print('\\n')\n",
    "print('Moyenne et écart type après la standardisation de la feature MMAX:')\n",
    "print('Moyenne = {:.2f}, Écart type = {:.2f}'.format(df_std[:, 1].mean(), df_std[:, 1].std()))\n",
    "\n",
    "# Remplacer les colonnes MYCT et MMAX dans le jeu de données original par les valeurs standardisées\n",
    "dataset[['MYCT', 'MMAX']] = df_std\n",
    "\n",
    "# Afficher le jeu de données après la standardisation\n",
    "print(\"Data après la standardisation Z-Score:\")\n",
    "print(dataset)\n"
   ]
  },
  {
   "cell_type": "markdown",
   "id": "c3a1e904",
   "metadata": {},
   "source": [
    "<div style=\"font-family: Arial; color: #27AE60 ; font-size: 20px;\">\n",
    "    <b>Interprétation: </b>\n",
    "</div>\n",
    "    </br>\n",
    "\n",
    "<div>\n",
    "    <p>Ce code permet de standardiser spécifiquement les colonnes 'MYCT' (Memory Years) et 'MMAX' (Maximum Memory) du jeu de données de performance CPU. La standardisation Z-Score est une technique statistique utilisée pour mettre à l'échelle les caractéristiques, garantissant ainsi que les données sont centrées autour de zéro avec un écart type de 1. </p>\n",
    "    </div>\n",
    "    </br>\n",
    "    <div>\n",
    "    <p>Il est important de noter que la standardisation est légèrement affectée par les valeurs aberrantes, contrairement à la normalisation qui est fortement affectée par ces derniers. </p>\n",
    "    </div>"
   ]
  },
  {
   "cell_type": "markdown",
   "id": "73f415e3-bcf6-4576-9fb3-af91c3819644",
   "metadata": {},
   "source": [
    "<div style=\"font-family: Open Sans; color: #2E86C1 ; font-size:20px;; \">\n",
    "    <b>3- Reduction des données: \n",
    "</b>\n",
    "</div>"
   ]
  },
  {
   "cell_type": "markdown",
   "id": "ba94d609-b879-4897-8db2-dfad41c40e07",
   "metadata": {},
   "source": [
    "<div style=\"font-family: Arial; color: #27AE60 ; font-size: 17px;\">\n",
    "    <b>a- Les variables catégorielles (qualitative):</b>\n",
    "</div>"
   ]
  },
  {
   "cell_type": "code",
   "execution_count": 20,
   "id": "482107b2-446f-4d89-9efc-b4a4550f0495",
   "metadata": {},
   "outputs": [
    {
     "name": "stdout",
     "output_type": "stream",
     "text": [
      "Couleurs de voiture acceptables :\n",
      "0     Blue\n",
      "1      Red\n",
      "2    Green\n",
      "dtype: category\n",
      "Categories (3, object): ['Blue', 'Green', 'Red']\n",
      "\n",
      "Données des couleurs de voiture :\n",
      "0      NaN\n",
      "1    Green\n",
      "2      Red\n",
      "3     Blue\n",
      "4      NaN\n",
      "dtype: category\n",
      "Categories (3, object): ['Blue', 'Green', 'Red']\n",
      "\n",
      "Couleurs qui ne correspondent pas aux couleurs acceptables :\n",
      "0    True\n",
      "4    True\n",
      "dtype: bool\n"
     ]
    }
   ],
   "source": [
    "# Créer une série catégorielle car_colors avec des valeurs acceptables\n",
    "car_colors = pd.Series(['Blue', 'Red', 'Green'], dtype='category')\n",
    "\n",
    "# Créer une série car_data avec des couleurs de voiture, certaines ne correspondent pas aux couleurs acceptables\n",
    "car_data = pd.Series(pd.Categorical(['Yellow', 'Green', 'Red', 'Blue', 'Purple'],categories=car_colors, ordered=False))\n",
    "\n",
    "# Utiliser la méthode isnull() pour détecter les couleurs qui ne correspondent pas à car_colors\n",
    "find_entries = pd.isnull(car_data)\n",
    "\n",
    "# Afficher les couleurs acceptables\n",
    "print(\"Couleurs de voiture acceptables :\")\n",
    "print(car_colors)\n",
    "\n",
    "# Afficher les couleurs de voiture\n",
    "print(\"\\nDonnées des couleurs de voiture :\")\n",
    "print(car_data)\n",
    "\n",
    "# Afficher les couleurs qui ne correspondent pas aux couleurs acceptables\n",
    "print(\"\\nCouleurs qui ne correspondent pas aux couleurs acceptables :\")\n",
    "print(find_entries[find_entries == True])\n"
   ]
  },
  {
   "cell_type": "markdown",
   "id": "c9749ef2",
   "metadata": {},
   "source": [
    "<div style=\"font-family: Arial; color: #27AE60 ; font-size: 20px;\">\n",
    "    <b>Interprétation: </b>\n",
    "</div>\n",
    "</br>\n",
    "<div>\n",
    "    <p>Le code présente la manipulation des variables catégorielles en utilisant des séries de données pour définir des couleurs de voitures considérées comme acceptables et une série réelle représentant les couleurs de voitures.</p>\n",
    "    </div>\n",
    "<div>\n",
    "    <p>En utilisant la méthode <b>pd.isnull()</b>, le code identifie les entrées de car_data qui ne correspondent pas aux valeurs spécifiées dans car_colors. Cela permet de repérer les incohérences ou les valeurs non conformes par rapport aux catégories de couleurs acceptables.\n",
    "      </p>\n",
    "    </div>"
   ]
  },
  {
   "cell_type": "markdown",
   "id": "de5efb9b-622e-4e79-87e5-b2b73595e8dc",
   "metadata": {},
   "source": [
    "<div style=\"font-family: Arial; color: #27AE60 ; font-size: 17px;\">\n",
    "    <b>b- Combinaison des catégories:</b>\n",
    "</div>"
   ]
  },
  {
   "cell_type": "code",
   "execution_count": 23,
   "id": "27860f81-8483-4b26-a393-c3fa18328a82",
   "metadata": {},
   "outputs": [
    {
     "name": "stdout",
     "output_type": "stream",
     "text": [
      "Entrées correspondant à la catégorie 'Red':\n",
      "2    Red\n",
      "4    Red\n",
      "dtype: category\n",
      "Categories (3, object): ['Blue_Red', 'Green', 'Red']\n",
      "\n",
      "Résultat après la combinaison des catégories :\n",
      "0    Blue_Red\n",
      "1       Green\n",
      "2    Blue_Red\n",
      "3       Green\n",
      "4    Blue_Red\n",
      "5       Green\n",
      "dtype: category\n",
      "Categories (3, object): ['Blue_Red', 'Green', 'Red']\n"
     ]
    }
   ],
   "source": [
    "# Créer une série catégorielle car_colors avec des catégories (valeurs qualitatives) Blue, Green et Red\n",
    "car_colors = pd.Series(['Blue', 'Green', 'Red'], dtype='category')\n",
    "\n",
    "# Créer une série car_data avec des couleurs de voiture, certaines ne correspondent pas aux couleurs acceptables\n",
    "car_data = pd.Series(pd.Categorical(['Blue', 'Green', 'Red', 'Green', 'Red', 'Green'],categories=car_colors, ordered=False))\n",
    "\n",
    "# Remplacer les catégories Blue et Red par la catégorie Blue_Red\n",
    "car_data.cat.categories = [\"Blue_Red\", \"Green\", \"Red\"]\n",
    "\n",
    "# Afficher les entrées qui correspondent à la catégorie Red\n",
    "print(\"Entrées correspondant à la catégorie 'Red':\")\n",
    "print(car_data.loc[car_data.isin(['Red'])])\n",
    "\n",
    "# Remplacer les entrées Red par Blue_Red\n",
    "car_data.loc[car_data.isin(['Red'])] = 'Blue_Red'\n",
    "\n",
    "# Afficher le résultat après la combinaison des catégories\n",
    "print(\"\\nRésultat après la combinaison des catégories :\")\n",
    "print(car_data)\n"
   ]
  },
  {
   "cell_type": "markdown",
   "id": "a31f5913",
   "metadata": {},
   "source": [
    "<div style=\"font-family: Arial; color: #27AE60 ; font-size: 20px;\">\n",
    "    <b>Interprétation: </b>\n",
    "</div>\n",
    "</br>\n",
    "<div>\n",
    "    <p>Ce code démontre le processus de combinaison de catégories (valeurs qualitatives) dans une série de données. Il illustre la transformation des catégories \"Blue\" et \"Red\" en une nouvelle catégorie \"Blue_Red\" en utilisant la méthode <b>isin()</b> pour localiser les entrées \"Red\" et la méthode <b>loc</b> pour récupérer leurs index. Ensuite, il remplace ces entrées \"Red\" par la catégorie combinée \"Blue_Red\".\n",
    "</p>\n",
    "    </div>\n",
    "    </br>\n",
    "<div>\n",
    "    <p>  Cette approche est utile pour fusionner des catégories similaires ou liées dans les données, ce qui peut faciliter l'analyse en réduisant la complexité et en améliorant la représentation des données. </p>\n",
    "    </div>\n"
   ]
  },
  {
   "cell_type": "markdown",
   "id": "50a0a3b7-9bf0-483d-95ea-513bea6600e4",
   "metadata": {},
   "source": [
    "<div style=\"font-family: Arial; color: #27AE60 ; font-size: 17px;\">\n",
    "    <b>c- Concaténation et transformation des données:</b>\n",
    "</div>"
   ]
  },
  {
   "cell_type": "code",
   "execution_count": 25,
   "id": "4b151a3d-fea2-48a9-ad6e-fd32c453d7be",
   "metadata": {},
   "outputs": [
    {
     "name": "stdout",
     "output_type": "stream",
     "text": [
      "DataFrame après concaténation et réinitialisation de l'index :\n",
      "   A  B  C\n",
      "0  2  1  5\n",
      "1  3  2  3\n",
      "2  1  3  4\n",
      "3  4  4  4\n",
      "\n",
      "DataFrame après ajout de nouvelles données :\n",
      "   A  B  C\n",
      "0  2  1  5\n",
      "1  3  2  3\n",
      "2  1  3  4\n",
      "3  4  4  4\n",
      "4  5  5  5\n",
      "\n",
      "DataFrame après jointure avec df2 :\n",
      "   A  B  C  D\n",
      "0  2  1  5  1\n",
      "1  3  2  3  2\n",
      "2  1  3  4  3\n",
      "3  4  4  4  4\n",
      "4  5  5  5  5\n",
      "\n",
      "Exemple 3.11 - Suppression de données\n",
      "DataFrame initial :\n",
      "   A  B  C\n",
      "0  2  1  5\n",
      "1  3  2  3\n",
      "2  1  3  4\n",
      "\n",
      "DataFrame après suppression d'une ligne par indice :\n",
      "   A  B  C\n",
      "0  2  1  5\n",
      "2  1  3  4\n",
      "\n",
      "DataFrame après suppression d'une colonne par nom :\n",
      "   A  C\n",
      "0  2  5\n",
      "2  1  4\n"
     ]
    },
    {
     "name": "stderr",
     "output_type": "stream",
     "text": [
      "C:\\Users\\dell\\AppData\\Local\\Temp\\ipykernel_7240\\3080783984.py:6: FutureWarning: The frame.append method is deprecated and will be removed from pandas in a future version. Use pandas.concat instead.\n",
      "  df = df.append(df1)\n"
     ]
    }
   ],
   "source": [
    "# Exemple 3.10 - Concaténation, reset_index et ajout de données\n",
    "df = pd.DataFrame({'A': [2, 3, 1], 'B': [1, 2, 3], 'C': [5, 3, 4]})\n",
    "df1 = pd.DataFrame({'A': [4], 'B': [4], 'C': [4]})\n",
    "\n",
    "# Concaténer df et df1\n",
    "df = df.append(df1)\n",
    "df = df.reset_index(drop=True)\n",
    "print(\"DataFrame après concaténation et réinitialisation de l'index :\")\n",
    "print(df)\n",
    "\n",
    "# Ajouter de nouvelles données à df\n",
    "df.loc[df.last_valid_index() + 1] = [5, 5, 5]\n",
    "print(\"\\nDataFrame après ajout de nouvelles données :\")\n",
    "print(df)\n",
    "\n",
    "df2 = pd.DataFrame({'D': [1, 2, 3, 4, 5]})\n",
    "\n",
    "# Joindre df et df2\n",
    "df = df.join(df2)\n",
    "print(\"\\nDataFrame après jointure avec df2 :\")\n",
    "print(df)\n",
    "\n",
    "# Exemple 3.11 - Suppression de données\n",
    "print(\"\\nExemple 3.11 - Suppression de données\")\n",
    "print(\"DataFrame initial :\")\n",
    "df = pd.DataFrame({'A': [2, 3, 1], 'B': [1, 2, 3], 'C': [5, 3, 4]})\n",
    "print(df)\n",
    "\n",
    "# Supprimer une ligne en utilisant l'indice (par exemple, supprimer la ligne 1)\n",
    "df = df.drop(1)\n",
    "print(\"\\nDataFrame après suppression d'une ligne par indice :\")\n",
    "print(df)\n",
    "\n",
    "# Supprimer une colonne en utilisant le nom de la colonne (par exemple, supprimer la colonne 'B')\n",
    "df = df.drop(columns=['B'])\n",
    "print(\"\\nDataFrame après suppression d'une colonne par nom :\")\n",
    "print(df)\n"
   ]
  },
  {
   "cell_type": "markdown",
   "id": "dd48a665",
   "metadata": {},
   "source": [
    "<div style=\"font-family: Arial; color: #27AE60 ; font-size: 20px;\">\n",
    "    <b>Interprétation: </b>\n",
    "</div>\n",
    "</br>\n",
    "<div>\n",
    "<p>Ce code permet de démontrer différentes opérations de manipulation de données telles que la concaténation, l'ajout de nouvelles données, la jointure, et la suppression de lignes et de colonnes d'un DataFrame. </p>\n",
    "    </div>\n",
    "    </br>\n",
    "<div>\n",
    "    <p> <b>La concaténation</b> est utile pour fusionner des ensembles de données complémentaires, permettant ainsi une analyse plus complète et approfondie. </p>  \n",
    "    </div>\n",
    "    </br>\n",
    "    <div>\n",
    "    <p> <b>La jointure</b> entre plusieurs DataFrames permet de combiner des informations de sources différentes pour créer une vue plus complète des données.  </p>  \n",
    "    </div>\n",
    "    </br>\n",
    "   <div>\n",
    "    <p> <b>La suppression</b> de lignes et de colonnes inutiles aide à simplifier les données, améliorant ainsi l'efficacité de l'analyse (mais cela dépend de la taille du dataset, on utilise cette méthode seulement si on travaille avec un grand échantillon) . </p>  \n",
    "    </div>"
   ]
  },
  {
   "cell_type": "markdown",
   "id": "c9ada3ca-2828-476e-a55a-171958e0f3bf",
   "metadata": {},
   "source": [
    "<div style=\"font-family: Arial; color: #27AE60 ; font-size: 17px;\">\n",
    "    <b>d- Agrégation des données:</b>\n",
    "</div>"
   ]
  },
  {
   "cell_type": "code",
   "execution_count": 26,
   "id": "4db450b1-ad72-48d3-b465-390e93be2290",
   "metadata": {},
   "outputs": [
    {
     "name": "stdout",
     "output_type": "stream",
     "text": [
      "   Map  Values  Sum  Moy\n",
      "0    0       1    6  2.0\n",
      "1    0       2    6  2.0\n",
      "2    0       3    6  2.0\n",
      "3    1       5    9  4.5\n",
      "4    1       4    9  4.5\n",
      "5    2       2    7  3.5\n",
      "6    2       5    7  3.5\n"
     ]
    }
   ],
   "source": [
    "# Créer un DataFrame avec les colonnes \"Map\" et \"Values\"\n",
    "df = pd.DataFrame({'Map': [0, 0, 0, 1, 1, 2, 2], 'Values': [1, 2, 3, 5, 4, 2, 5]})\n",
    "\n",
    "# Utiliser la méthode groupby() pour regrouper les valeurs par \"Map\" et calculer la somme et la moyenne\n",
    "df['Sum'] = df.groupby('Map')['Values'].transform('sum')\n",
    "df['Moy'] = df.groupby('Map')['Values'].transform('mean')\n",
    "\n",
    "# Afficher le DataFrame avec les valeurs agrégées\n",
    "print(df)\n"
   ]
  },
  {
   "cell_type": "markdown",
   "id": "3076a092",
   "metadata": {},
   "source": [
    "<div style=\"font-family: Arial; color: #27AE60 ; font-size: 20px;\">\n",
    "    <b>Interprétation: </b>\n",
    "</div>\n",
    "</br>\n",
    "<div>\n",
    "    <p>\n",
    "Ce code démontre le concept d'agrégation de données, il illustre comment regrouper des informations similaires ensemble, basées sur une caractéristique commune, et calculer des valeurs agrégées telles que la somme et la moyenne pour chaque groupe formé.\n",
    "        Cette approche est utile pour extraire des informations, fournissant une vision globale sur les caractéristiques et les tendances des données, facilitant ainsi une compréhension plus approfondie des informations contenues dans le dataset.\n",
    "</p>\n",
    "    </div>\n"
   ]
  },
  {
   "cell_type": "markdown",
   "id": "207cce8c-767d-45d2-9287-e9811aa7c678",
   "metadata": {},
   "source": [
    "<div style=\"font-family: Arial; color: #27AE60 ; font-size: 17px;\">\n",
    "    <b>e. Data encoding:</b>\n",
    "</div>"
   ]
  },
  {
   "cell_type": "code",
   "execution_count": 28,
   "id": "8f684583-7298-443b-b364-65b96cca9068",
   "metadata": {},
   "outputs": [
    {
     "name": "stdout",
     "output_type": "stream",
     "text": [
      "  Couleur  Couleur_encoded\n",
      "0   Rouge                1\n",
      "1    Vert                2\n",
      "2    Bleu                0\n",
      "3   Rouge                1\n",
      "4    Vert                2\n"
     ]
    }
   ],
   "source": [
    "from sklearn.preprocessing import LabelEncoder\n",
    "\n",
    "# 1. Définir une DataFrame avec des variables catégoriques\n",
    "data = pd.DataFrame({'Couleur': ['Rouge', 'Vert', 'Bleu', 'Rouge', 'Vert']})\n",
    "\n",
    "# 2. Importer une méthode convenable (dans ce cas: LabelEncoder)\n",
    "label_encoder = LabelEncoder() \n",
    "\n",
    "# 3. Transformer les données catégoriques en données numériques\n",
    "data['Couleur_encoded'] = label_encoder.fit_transform(data['Couleur'])\n",
    "\n",
    "# Afficher la DataFrame avec les données encodées\n",
    "print(data)\n"
   ]
  },
  {
   "cell_type": "markdown",
   "id": "2bf3a2f7",
   "metadata": {},
   "source": [
    "<div style=\"font-family: Arial; color: #27AE60 ; font-size: 20px;\">\n",
    "    <b>Interprétation: </b>\n",
    "</div>\n",
    "</br>\n",
    "<div>\n",
    "<p>  Ce code permet de convertir des variables catégoriques en données numériques, ce qui est crucial dans le processus de prétraitement des données pour les rendre utilisables par les algorithmes d'apprentissage automatique. Le Label Encoding assure la compatibilité des données avec les modèles d'apprentissage automatique, améliorant ainsi la performance et la précision des prédictions. </p>    \n",
    "</div>\n"
   ]
  },
  {
   "cell_type": "markdown",
   "id": "f460b9f2-d280-4f21-848b-bd1acc41f4fc",
   "metadata": {},
   "source": [
    "<div style=\"font-family: Open Sans; color: #2E86C1 ; font-size:20px;; \">\n",
    "    <b>4- Discrétisation des données: \n",
    "</b>\n",
    "</div>"
   ]
  },
  {
   "cell_type": "code",
   "execution_count": 32,
   "id": "7132bf7b-56b9-46ce-a511-caa0f1049f66",
   "metadata": {},
   "outputs": [
    {
     "name": "stdout",
     "output_type": "stream",
     "text": [
      "IRIS data values:\n",
      "     sepal length (cm)  sepal width (cm)  petal length (cm)  petal width (cm)  \\\n",
      "0                  5.1               3.5                1.4               0.2   \n",
      "1                  4.9               3.0                1.4               0.2   \n",
      "2                  4.7               3.2                1.3               0.2   \n",
      "3                  4.6               3.1                1.5               0.2   \n",
      "4                  5.0               3.6                1.4               0.2   \n",
      "..                 ...               ...                ...               ...   \n",
      "145                6.7               3.0                5.2               2.3   \n",
      "146                6.3               2.5                5.0               1.9   \n",
      "147                6.5               3.0                5.2               2.0   \n",
      "148                6.2               3.4                5.4               2.3   \n",
      "149                5.9               3.0                5.1               1.8   \n",
      "\n",
      "         group  \n",
      "0       setosa  \n",
      "1       setosa  \n",
      "2       setosa  \n",
      "3       setosa  \n",
      "4       setosa  \n",
      "..         ...  \n",
      "145  virginica  \n",
      "146  virginica  \n",
      "147  virginica  \n",
      "148  virginica  \n",
      "149  virginica  \n",
      "\n",
      "[150 rows x 5 columns]\n",
      "Mean value :\n",
      "sepal length (cm)    5.843333\n",
      "sepal width (cm)     3.057333\n",
      "petal length (cm)    3.758000\n",
      "petal width (cm)     1.199333\n",
      "dtype: float64\n",
      "\n",
      "\n",
      "Median value :\n",
      "sepal length (cm)    5.80\n",
      "sepal width (cm)     3.00\n",
      "petal length (cm)    4.35\n",
      "petal width (cm)     1.30\n",
      "dtype: float64\n",
      "\n",
      "\n",
      "Discrétisation basée sur des effectifs égaux (quantiles) :\n",
      "      sepal length (cm)  sepal width (cm)  petal length (cm)  petal width (cm)\n",
      "0.00                4.3               2.0               1.00               0.1\n",
      "0.25                5.1               2.8               1.60               0.3\n",
      "0.50                5.8               3.0               4.35               1.3\n",
      "0.75                6.4               3.3               5.10               1.8\n",
      "1.00                7.9               4.4               6.90               2.5\n",
      "\n",
      "\n",
      "Fréquence dans chaque catégorie :\n",
      "setosa        50\n",
      "versicolor    50\n",
      "virginica     50\n",
      "Name: group, dtype: int64\n"
     ]
    }
   ],
   "source": [
    "from sklearn.datasets import load_iris\n",
    "\n",
    "# Charger le jeu de données Iris\n",
    "iris = load_iris()\n",
    "iris_nparray = iris.data\n",
    "iris_dataframe = pd.DataFrame(iris.data, columns=iris.feature_names)\n",
    "iris_dataframe['group'] = pd.Series([iris.target_names[k] for k in iris.target], dtype=\"category\")\n",
    "\n",
    "# Afficher les données Iris\n",
    "print(\"IRIS data values:\")\n",
    "print(iris_dataframe)\n",
    "\n",
    "# Calculer la moyenne des valeurs numériques\n",
    "print(\"Mean value :\")\n",
    "print(iris_dataframe.mean(numeric_only=True))\n",
    "print(\"\\n\")\n",
    "# Calculer la médiane des valeurs numériques\n",
    "print(\"Median value :\")\n",
    "print(iris_dataframe.median(numeric_only=True))\n",
    "print(\"\\n\")\n",
    "# Discrétisation basée sur des effectifs égaux (quantiles)\n",
    "quantiles = np.array([0, 0.25, 0.50, 0.75, 1])\n",
    "iris_binned = iris_dataframe.quantile(quantiles)\n",
    "\n",
    "# Afficher les données discrétisées\n",
    "print(\"Discrétisation basée sur des effectifs égaux (quantiles) :\")\n",
    "print(iris_binned)\n",
    "print(\"\\n\")\n",
    "# Calculer la fréquence pour chaque variable catégorique de l'ensemble de données\n",
    "print(\"Fréquence dans chaque catégorie :\")\n",
    "frequency = iris_dataframe['group'].value_counts()\n",
    "print(frequency)\n"
   ]
  },
  {
   "cell_type": "markdown",
   "id": "eeb70dad",
   "metadata": {},
   "source": [
    "<div style=\"font-family: Arial; color: #27AE60 ; font-size: 20px;\">\n",
    "    <b>Interprétation: </b>\n",
    "</div>\n",
    "</br>\n",
    "<div>\n",
    "    <p>\n",
    "\n",
    "Ce code montre comment transformer des valeurs en des données plus faciles à comprendre et à analyser. En utilisant un ensemble de données sur les iris, les valeurs sont organisées en groupes égaux basés sur leurs quantiles, ce qui permet de créer des groupes avec des plages de valeurs similaires. \n",
    "        De plus, on s'intéresse à la fréquence de chaque type d'iris pour voir combien il y en a de chaque type dans l'ensemble de données et mettre en évidence les tendances entre les catégories. \n",
    "        Cette étape de discrétisation des données rend l'analyse plus simple et peut aider à trouver des schémas ou des relations entre les différents types d'iris.\n",
    "    </div>\n",
    "\n",
    "\n"
   ]
  },
  {
   "cell_type": "markdown",
   "id": "b5af4b33-3b5e-465e-86a1-74ff75ba7957",
   "metadata": {},
   "source": [
    "<div style=\"font-family: Arial; color: #5DADE2; text-align: center; font-size: 25px;\">\n",
    "    <i>Partie 2: Réduction de dimension</i>\n",
    "</div>"
   ]
  },
  {
   "cell_type": "markdown",
   "id": "46830c46-3a67-4366-b31c-a83b0a6f06c5",
   "metadata": {},
   "source": [
    "<div style=\"font-family: Open Sans; color: #2E86C1 ; font-size:20px;; \">\n",
    "    <b>1- Réduction basée sur une sélection des caractéristiques:\n",
    "</b>\n",
    "</div>"
   ]
  },
  {
   "cell_type": "markdown",
   "id": "5b98000c-f76c-49b7-8df2-320c4b25f7f5",
   "metadata": {},
   "source": [
    "<div style=\"font-family: Arial; color: #27AE60 ; font-size: 17px;\">\n",
    "    <b>a- Méthode Filter (Filtre):</b>\n",
    "</div>"
   ]
  },
  {
   "cell_type": "code",
   "execution_count": 33,
   "id": "03dc1714-6e67-4542-a565-80ee83f452ac",
   "metadata": {},
   "outputs": [
    {
     "name": "stdout",
     "output_type": "stream",
     "text": [
      "Scores de corrélation des caractéristiques :\n",
      "Chi-Square score  [ 10.81782088   3.7107283  116.31261309  67.0483602 ]\n",
      "F-Score score  [ 119.26450218   49.16004009 1180.16118225  960.0071468 ]\n",
      "Information Mutuelle  [0.50610459 0.21905784 0.984666   0.9718604 ]\n"
     ]
    },
    {
     "data": {
      "image/png": "[encoded data removed]",
      "text/plain": [
       "<Figure size 640x480 with 2 Axes>"
      ]
     },
     "metadata": {},
     "output_type": "display_data"
    }
   ],
   "source": [
    "import matplotlib.pyplot as plt\n",
    "import seaborn as sns\n",
    "from sklearn.feature_selection import chi2, f_classif, mutual_info_classif\n",
    "from sklearn.datasets import load_iris\n",
    "\n",
    "# Charger l'ensemble de données Iris\n",
    "iris = load_iris()\n",
    "X, y = iris.data, iris.target\n",
    "\n",
    "# Calculer les scores Chi-Square\n",
    "chi2_score, chi2_p_value = chi2(X, y)\n",
    "\n",
    "# Calculer les scores F-Score\n",
    "f_score, f_p_value = f_classif(X, y)\n",
    "\n",
    "# Calculer les scores d'Information Mutuelle\n",
    "mut_info_score = mutual_info_classif(X, y)\n",
    "\n",
    "# Afficher les scores de corrélation des caractéristiques\n",
    "print(\"Scores de corrélation des caractéristiques :\")\n",
    "print('Chi-Square score ', chi2_score)\n",
    "print('F-Score score ', f_score)\n",
    "print('Information Mutuelle ', mut_info_score)\n",
    "\n",
    "# Créer un DataFrame pour les données Iris\n",
    "dataframe = pd.DataFrame(iris.data, columns=iris.feature_names)\n",
    "\n",
    "# Calculer la matrice de corrélation\n",
    "corr = dataframe.corr()\n",
    "\n",
    "# Tracer la heatmap pour visualiser les corrélations entre les caractéristiques\n",
    "sns.heatmap(corr, annot=True)\n",
    "plt.show()"
   ]
  },
  {
   "cell_type": "markdown",
   "id": "a02ff939",
   "metadata": {},
   "source": [
    "<div style=\"font-family: Arial; color: #27AE60 ; font-size: 20px;\">\n",
    "    <b>Interprétation: </b>\n",
    "</div>\n",
    "</br>\n",
    "<div>\n",
    "<p>Ce code applique des méthodes de sélection de caractéristiques pour évaluer l'importance des attributs dans le jeu de données Iris. Il vise à déterminer comment chaque caractéristique influence la variable cible. En utilisant des techniques telles que le chi-square, le F-score et l'information mutuelle, il évalue l'association entre chaque attribut et la variable cible. La création d'une heatmap pour visualiser les corrélations entre les caractéristiques </p>    \n",
    "</div>\n",
    "</br>\n",
    "\n",
    "<div>\n",
    "    <p> L'analyse de la matrice de corrélation révèle que la diagonale principale est composée de valeurs de 1, indiquant que chaque caractéristique est parfaitement corrélée avec elle-même. De plus, les valeurs près de 1 (0.96) dans la matrice indiquent des corrélations fortes entre les paires de caractéristiques correspondantes. </p>\n",
    "    </div>"
   ]
  },
  {
   "cell_type": "markdown",
   "id": "823bcade-74ea-46ea-a527-704398827e4f",
   "metadata": {},
   "source": [
    "<div style=\"font-family: Arial; color: #27AE60 ; font-size: 17px;\">\n",
    "    <b>b-Méthode Wrapper (enveloppante) :</b>\n",
    "</div>"
   ]
  },
  {
   "cell_type": "code",
   "execution_count": 38,
   "id": "463f876e-83de-40c7-be9a-127713b2e57d",
   "metadata": {},
   "outputs": [
    {
     "name": "stdout",
     "output_type": "stream",
     "text": [
      "Caractéristiques sélectionnées :\n",
      "[False False  True  True]\n",
      "Rang des caractéristiques :\n",
      "[3 2 1 1]\n"
     ]
    }
   ],
   "source": [
    "from sklearn.feature_selection import RFE\n",
    "from sklearn.linear_model import LogisticRegression\n",
    "from sklearn.datasets import load_iris\n",
    "\n",
    "iris = load_iris()\n",
    "X, y = iris.data, iris.target\n",
    "\n",
    "# Créer un modèle de régression logistique avec un nombre d'itérations plus élevé\n",
    "model = LogisticRegression(max_iter=1000)\n",
    "\n",
    "# Utiliser la méthode RFE (Recursive Feature Elimination) pour sélectionner les caractéristiques\n",
    "rfe = RFE(model, n_features_to_select=2) \n",
    "fit = rfe.fit(X, y)\n",
    "\n",
    "# Afficher les caractéristiques sélectionnées\n",
    "print(\"Caractéristiques sélectionnées :\")\n",
    "print(fit.support_)\n",
    "print(\"Rang des caractéristiques :\")\n",
    "print(fit.ranking_)\n"
   ]
  },
  {
   "cell_type": "markdown",
   "id": "5cf51afb",
   "metadata": {},
   "source": [
    "<div style=\"font-family: Arial; color: #27AE60 ; font-size: 20px;\">\n",
    "    <b>Interprétation: </b>\n",
    "</div>\n",
    "</br>\n",
    "<div>\n",
    "<p> Ce code applique la méthode Recursive Feature Elimination en utilisant un modèle de régression logistique pour sélectionner les deux caractéristiques les plus importantes dans l'ensemble de données Iris. Cette méthode vise à identifier les attributs les plus pertinents pourour améliorer la précision.</p>    \n",
    "</div>"
   ]
  },
  {
   "cell_type": "markdown",
   "id": "0c4b3d18-7247-4c26-b445-c742d6a0f39b",
   "metadata": {},
   "source": [
    "<div style=\"font-family: Arial; color: #27AE60 ; font-size: 17px;\">\n",
    "    <b>c-Méthode Embedded (intégrée):</b>\n",
    "</div>"
   ]
  },
  {
   "cell_type": "code",
   "execution_count": 36,
   "id": "992c1c25-1e0a-4642-89c8-c7acb4942627",
   "metadata": {},
   "outputs": [
    {
     "name": "stdout",
     "output_type": "stream",
     "text": [
      "Coefficients des caractéristiques :\n",
      "[-0.10565944 -0.03380355  0.23463406  0.5892981 ]\n"
     ]
    }
   ],
   "source": [
    "from sklearn.linear_model import LassoCV\n",
    "from sklearn.datasets import load_iris\n",
    "\n",
    "iris = load_iris()\n",
    "X, y = iris.data, iris.target\n",
    "\n",
    "# Créer un modèle de régression LassoCV\n",
    "model = LassoCV()\n",
    "\n",
    "# Adapter le modèle aux données\n",
    "model.fit(X, y)\n",
    "\n",
    "# Obtenir les coefficients des caractéristiques\n",
    "feature_coefficients = model.coef_\n",
    "\n",
    "# Afficher les coefficients des caractéristiques\n",
    "print(\"Coefficients des caractéristiques :\")\n",
    "print(feature_coefficients)\n"
   ]
  },
  {
   "cell_type": "markdown",
   "id": "19cb1f73",
   "metadata": {},
   "source": [
    "<div style=\"font-family: Arial; color: #27AE60 ; font-size: 20px;\">\n",
    "    <b>Interprétation: </b>\n",
    "</div>\n",
    "</br>\n",
    "<div>\n",
    "<p> Ce code applique la méthode LassoCV pour sélectionner automatiquement les caractéristiques les plus importantes dans l'ensemble de données Iris. Les coefficients associés à chaque caractéristique sont évalués pour mesurer leur contribution à la prédiction des classes. Ces coefficients indiquent l'influence relative de chaque caractéristique dans la prédiction. L'approche LassoCV facilite la sélection des caractéristiques les plus significatives tout en construisant un modèle de prédiction.</p>    \n",
    "</div>"
   ]
  },
  {
   "cell_type": "markdown",
   "id": "35d5384c-f9f5-4246-a888-cd23c32e3364",
   "metadata": {},
   "source": [
    "<div style=\"font-family: Open Sans; color: #2E86C1 ; font-size:20px;; \">\n",
    "    <b>2-Réduction basée sur une transformation des données (PCA):\n",
    "</b>\n",
    "</div>"
   ]
  },
  {
   "cell_type": "code",
   "execution_count": 39,
   "id": "865117ef-ead1-4e37-ac30-7675595a8d88",
   "metadata": {},
   "outputs": [
    {
     "name": "stdout",
     "output_type": "stream",
     "text": [
      "Données réduites :\n",
      "          PC1       PC2\n",
      "0   -2.684126  0.319397\n",
      "1   -2.714142 -0.177001\n",
      "2   -2.888991 -0.144949\n",
      "3   -2.745343 -0.318299\n",
      "4   -2.728717  0.326755\n",
      "..        ...       ...\n",
      "145  1.944110  0.187532\n",
      "146  1.527167 -0.375317\n",
      "147  1.764346  0.078859\n",
      "148  1.900942  0.116628\n",
      "149  1.390189 -0.282661\n",
      "\n",
      "[150 rows x 2 columns]\n"
     ]
    },
    {
     "data": {
      "image/png": "[encoded data removed]",
      "text/plain": [
       "<Figure size 800x600 with 1 Axes>"
      ]
     },
     "metadata": {},
     "output_type": "display_data"
    }
   ],
   "source": [
    "import pandas as pd\n",
    "from sklearn.decomposition import PCA\n",
    "from sklearn.datasets import load_iris\n",
    "import matplotlib.pyplot as plt\n",
    "\n",
    "# Charger l'ensemble de données Iris\n",
    "iris = load_iris()\n",
    "X, y = iris.data, iris.target\n",
    "\n",
    "# Créer un objet PCA pour réduire à 2 dimensions\n",
    "pca = PCA(n_components=2)\n",
    "\n",
    "# Appliquer l'ACP aux données\n",
    "X_reduced = pca.fit_transform(X)\n",
    "\n",
    "# Créer un DataFrame avec les données réduites\n",
    "dataframe_reduced = pd.DataFrame(X_reduced, columns=['PC1', 'PC2'])\n",
    "\n",
    "# Afficher les données réduites\n",
    "print(\"Données réduites :\")\n",
    "print(dataframe_reduced)\n",
    "\n",
    "# Tracer un graphique des données réduites\n",
    "plt.figure(figsize=(8, 6))\n",
    "plt.scatter(dataframe_reduced['PC1'], dataframe_reduced['PC2'], c=y, cmap='viridis')\n",
    "plt.xlabel('Composante Principale 1')\n",
    "plt.ylabel('Composante Principale 2')\n",
    "plt.title('ACP - Réduction de la Dimensionnalité')\n",
    "plt.show()\n"
   ]
  },
  {
   "cell_type": "markdown",
   "id": "e96c4ca1-59e2-458c-ad2e-e9abf118a1df",
   "metadata": {},
   "source": [
    "<div style=\"font-family: Arial; color: #5DADE2; text-align: center; font-size: 25px;\">\n",
    "    <i>Partie finale : Etude de cas </i>\n",
    "</div>"
   ]
  },
  {
   "cell_type": "code",
   "execution_count": null,
   "id": "c17f1513-17ff-4961-8fb8-953d588d1a7f",
   "metadata": {},
   "outputs": [],
   "source": []
  }
 ],
 "metadata": {
  "kernelspec": {
   "display_name": "Python 3 (ipykernel)",
   "language": "python",
   "name": "python3"
  },
  "language_info": {
   "codemirror_mode": {
    "name": "ipython",
    "version": 3
   },
   "file_extension": ".py",
   "mimetype": "text/x-python",
   "name": "python",
   "nbconvert_exporter": "python",
   "pygments_lexer": "ipython3",
   "version": "3.8.18"
  }
 },
 "nbformat": 4,
 "nbformat_minor": 5
}
